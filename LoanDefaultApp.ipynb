{
 "cells": [
  {
   "cell_type": "code",
   "execution_count": 1,
   "id": "0b2e24fe-2252-48ef-8ba5-26c82c550963",
   "metadata": {},
   "outputs": [],
   "source": [
    "import numpy as np\n",
    "import pandas as pd\n",
    "import math\n",
    "import seaborn as sb\n",
    "import matplotlib.pyplot as plt\n",
    "from sklearn.impute import SimpleImputer\n",
    "from sklearn.preprocessing import MinMaxScaler,LabelEncoder\n",
    "from sklearn.feature_selection import SelectKBest,chi2\n",
    "from sklearn.model_selection import train_test_split\n",
    "from sklearn.metrics import accuracy_score,confusion_matrix,classification_report\n",
    "from sklearn.model_selection import GridSearchCV,cross_val_score\n",
    "import warnings\n",
    "warnings.filterwarnings('ignore')"
   ]
  },
  {
   "cell_type": "code",
   "execution_count": 3,
   "id": "b081c13f-c7db-41d2-b234-65846b581b26",
   "metadata": {},
   "outputs": [
    {
     "name": "stdout",
     "output_type": "stream",
     "text": [
      "Requirement already satisfied: imbalanced-learn in c:\\users\\laksh\\anaconda3\\lib\\site-packages (0.12.3)\n",
      "Requirement already satisfied: numpy>=1.17.3 in c:\\users\\laksh\\anaconda3\\lib\\site-packages (from imbalanced-learn) (1.26.4)\n",
      "Requirement already satisfied: scipy>=1.5.0 in c:\\users\\laksh\\anaconda3\\lib\\site-packages (from imbalanced-learn) (1.13.1)\n",
      "Requirement already satisfied: scikit-learn>=1.0.2 in c:\\users\\laksh\\anaconda3\\lib\\site-packages (from imbalanced-learn) (1.4.2)\n",
      "Requirement already satisfied: joblib>=1.1.1 in c:\\users\\laksh\\anaconda3\\lib\\site-packages (from imbalanced-learn) (1.4.2)\n",
      "Requirement already satisfied: threadpoolctl>=2.0.0 in c:\\users\\laksh\\anaconda3\\lib\\site-packages (from imbalanced-learn) (2.2.0)\n",
      "Requirement already satisfied: streamlit in c:\\users\\laksh\\anaconda3\\lib\\site-packages (1.32.0)\n",
      "Requirement already satisfied: altair<6,>=4.0 in c:\\users\\laksh\\anaconda3\\lib\\site-packages (from streamlit) (5.0.1)\n",
      "Requirement already satisfied: blinker<2,>=1.0.0 in c:\\users\\laksh\\anaconda3\\lib\\site-packages (from streamlit) (1.6.2)\n",
      "Requirement already satisfied: cachetools<6,>=4.0 in c:\\users\\laksh\\anaconda3\\lib\\site-packages (from streamlit) (5.3.3)\n",
      "Requirement already satisfied: click<9,>=7.0 in c:\\users\\laksh\\anaconda3\\lib\\site-packages (from streamlit) (8.1.7)\n",
      "Requirement already satisfied: numpy<2,>=1.19.3 in c:\\users\\laksh\\anaconda3\\lib\\site-packages (from streamlit) (1.26.4)\n",
      "Requirement already satisfied: packaging<24,>=16.8 in c:\\users\\laksh\\anaconda3\\lib\\site-packages (from streamlit) (23.2)\n",
      "Requirement already satisfied: pandas<3,>=1.3.0 in c:\\users\\laksh\\anaconda3\\lib\\site-packages (from streamlit) (2.2.2)\n",
      "Requirement already satisfied: pillow<11,>=7.1.0 in c:\\users\\laksh\\anaconda3\\lib\\site-packages (from streamlit) (10.3.0)\n",
      "Requirement already satisfied: protobuf<5,>=3.20 in c:\\users\\laksh\\anaconda3\\lib\\site-packages (from streamlit) (3.20.3)\n",
      "Requirement already satisfied: pyarrow>=7.0 in c:\\users\\laksh\\anaconda3\\lib\\site-packages (from streamlit) (14.0.2)\n",
      "Requirement already satisfied: requests<3,>=2.27 in c:\\users\\laksh\\anaconda3\\lib\\site-packages (from streamlit) (2.32.2)\n",
      "Requirement already satisfied: rich<14,>=10.14.0 in c:\\users\\laksh\\anaconda3\\lib\\site-packages (from streamlit) (13.3.5)\n",
      "Requirement already satisfied: tenacity<9,>=8.1.0 in c:\\users\\laksh\\anaconda3\\lib\\site-packages (from streamlit) (8.2.2)\n",
      "Requirement already satisfied: toml<2,>=0.10.1 in c:\\users\\laksh\\anaconda3\\lib\\site-packages (from streamlit) (0.10.2)\n",
      "Requirement already satisfied: typing-extensions<5,>=4.3.0 in c:\\users\\laksh\\anaconda3\\lib\\site-packages (from streamlit) (4.11.0)\n",
      "Requirement already satisfied: gitpython!=3.1.19,<4,>=3.0.7 in c:\\users\\laksh\\anaconda3\\lib\\site-packages (from streamlit) (3.1.37)\n",
      "Requirement already satisfied: pydeck<1,>=0.8.0b4 in c:\\users\\laksh\\anaconda3\\lib\\site-packages (from streamlit) (0.8.0)\n",
      "Requirement already satisfied: tornado<7,>=6.0.3 in c:\\users\\laksh\\anaconda3\\lib\\site-packages (from streamlit) (6.4.1)\n",
      "Requirement already satisfied: watchdog>=2.1.5 in c:\\users\\laksh\\anaconda3\\lib\\site-packages (from streamlit) (4.0.1)\n",
      "Requirement already satisfied: jinja2 in c:\\users\\laksh\\anaconda3\\lib\\site-packages (from altair<6,>=4.0->streamlit) (3.1.4)\n",
      "Requirement already satisfied: jsonschema>=3.0 in c:\\users\\laksh\\anaconda3\\lib\\site-packages (from altair<6,>=4.0->streamlit) (4.19.2)\n",
      "Requirement already satisfied: toolz in c:\\users\\laksh\\anaconda3\\lib\\site-packages (from altair<6,>=4.0->streamlit) (0.12.0)\n",
      "Requirement already satisfied: colorama in c:\\users\\laksh\\anaconda3\\lib\\site-packages (from click<9,>=7.0->streamlit) (0.4.6)\n",
      "Requirement already satisfied: gitdb<5,>=4.0.1 in c:\\users\\laksh\\anaconda3\\lib\\site-packages (from gitpython!=3.1.19,<4,>=3.0.7->streamlit) (4.0.7)\n",
      "Requirement already satisfied: python-dateutil>=2.8.2 in c:\\users\\laksh\\anaconda3\\lib\\site-packages (from pandas<3,>=1.3.0->streamlit) (2.9.0.post0)\n",
      "Requirement already satisfied: pytz>=2020.1 in c:\\users\\laksh\\anaconda3\\lib\\site-packages (from pandas<3,>=1.3.0->streamlit) (2024.1)\n",
      "Requirement already satisfied: tzdata>=2022.7 in c:\\users\\laksh\\anaconda3\\lib\\site-packages (from pandas<3,>=1.3.0->streamlit) (2023.3)\n",
      "Requirement already satisfied: charset-normalizer<4,>=2 in c:\\users\\laksh\\anaconda3\\lib\\site-packages (from requests<3,>=2.27->streamlit) (2.0.4)\n",
      "Requirement already satisfied: idna<4,>=2.5 in c:\\users\\laksh\\anaconda3\\lib\\site-packages (from requests<3,>=2.27->streamlit) (3.7)\n",
      "Requirement already satisfied: urllib3<3,>=1.21.1 in c:\\users\\laksh\\anaconda3\\lib\\site-packages (from requests<3,>=2.27->streamlit) (2.2.2)\n",
      "Requirement already satisfied: certifi>=2017.4.17 in c:\\users\\laksh\\anaconda3\\lib\\site-packages (from requests<3,>=2.27->streamlit) (2024.8.30)\n",
      "Requirement already satisfied: markdown-it-py<3.0.0,>=2.2.0 in c:\\users\\laksh\\anaconda3\\lib\\site-packages (from rich<14,>=10.14.0->streamlit) (2.2.0)\n",
      "Requirement already satisfied: pygments<3.0.0,>=2.13.0 in c:\\users\\laksh\\anaconda3\\lib\\site-packages (from rich<14,>=10.14.0->streamlit) (2.15.1)\n",
      "Requirement already satisfied: smmap<5,>=3.0.1 in c:\\users\\laksh\\anaconda3\\lib\\site-packages (from gitdb<5,>=4.0.1->gitpython!=3.1.19,<4,>=3.0.7->streamlit) (4.0.0)\n",
      "Requirement already satisfied: MarkupSafe>=2.0 in c:\\users\\laksh\\anaconda3\\lib\\site-packages (from jinja2->altair<6,>=4.0->streamlit) (2.1.3)\n",
      "Requirement already satisfied: attrs>=22.2.0 in c:\\users\\laksh\\anaconda3\\lib\\site-packages (from jsonschema>=3.0->altair<6,>=4.0->streamlit) (23.1.0)\n",
      "Requirement already satisfied: jsonschema-specifications>=2023.03.6 in c:\\users\\laksh\\anaconda3\\lib\\site-packages (from jsonschema>=3.0->altair<6,>=4.0->streamlit) (2023.7.1)\n",
      "Requirement already satisfied: referencing>=0.28.4 in c:\\users\\laksh\\anaconda3\\lib\\site-packages (from jsonschema>=3.0->altair<6,>=4.0->streamlit) (0.30.2)\n",
      "Requirement already satisfied: rpds-py>=0.7.1 in c:\\users\\laksh\\anaconda3\\lib\\site-packages (from jsonschema>=3.0->altair<6,>=4.0->streamlit) (0.10.6)\n",
      "Requirement already satisfied: mdurl~=0.1 in c:\\users\\laksh\\anaconda3\\lib\\site-packages (from markdown-it-py<3.0.0,>=2.2.0->rich<14,>=10.14.0->streamlit) (0.1.0)\n",
      "Requirement already satisfied: six>=1.5 in c:\\users\\laksh\\anaconda3\\lib\\site-packages (from python-dateutil>=2.8.2->pandas<3,>=1.3.0->streamlit) (1.16.0)\n",
      "Requirement already satisfied: pyngrok in c:\\users\\laksh\\anaconda3\\lib\\site-packages (7.2.0)\n",
      "Requirement already satisfied: PyYAML>=5.1 in c:\\users\\laksh\\anaconda3\\lib\\site-packages (from pyngrok) (6.0.1)\n"
     ]
    }
   ],
   "source": [
    "# Required Libraries\n",
    "!pip install imbalanced-learn\n",
    "!pip install streamlit\n",
    "!pip install pyngrok"
   ]
  },
  {
   "cell_type": "markdown",
   "id": "453bc19a-b2de-448d-b7e7-e28c27aecb17",
   "metadata": {},
   "source": [
    "<h1>Import dataset</h1>"
   ]
  },
  {
   "cell_type": "code",
   "execution_count": 6,
   "id": "acf1653f-81a2-499b-9d17-03ee5cd95bc6",
   "metadata": {},
   "outputs": [],
   "source": [
    "Fulldf = pd.read_csv(r'C:\\Users\\laksh\\Downloads\\projct1\\Train_Dataset.csv')"
   ]
  },
  {
   "cell_type": "code",
   "execution_count": 14,
   "id": "36dcec27-0025-4f63-800e-13c62a92d8f3",
   "metadata": {},
   "outputs": [
    {
     "data": {
      "text/html": [
       "<div>\n",
       "<style scoped>\n",
       "    .dataframe tbody tr th:only-of-type {\n",
       "        vertical-align: middle;\n",
       "    }\n",
       "\n",
       "    .dataframe tbody tr th {\n",
       "        vertical-align: top;\n",
       "    }\n",
       "\n",
       "    .dataframe thead th {\n",
       "        text-align: right;\n",
       "    }\n",
       "</style>\n",
       "<table border=\"1\" class=\"dataframe\">\n",
       "  <thead>\n",
       "    <tr style=\"text-align: right;\">\n",
       "      <th></th>\n",
       "      <th>ID</th>\n",
       "      <th>Client_Income</th>\n",
       "      <th>Car_Owned</th>\n",
       "      <th>Bike_Owned</th>\n",
       "      <th>Active_Loan</th>\n",
       "      <th>House_Own</th>\n",
       "      <th>Child_Count</th>\n",
       "      <th>Credit_Amount</th>\n",
       "      <th>Loan_Annuity</th>\n",
       "      <th>Accompany_Client</th>\n",
       "      <th>...</th>\n",
       "      <th>Client_Permanent_Match_Tag</th>\n",
       "      <th>Client_Contact_Work_Tag</th>\n",
       "      <th>Type_Organization</th>\n",
       "      <th>Score_Source_1</th>\n",
       "      <th>Score_Source_2</th>\n",
       "      <th>Score_Source_3</th>\n",
       "      <th>Social_Circle_Default</th>\n",
       "      <th>Phone_Change</th>\n",
       "      <th>Credit_Bureau</th>\n",
       "      <th>Default</th>\n",
       "    </tr>\n",
       "  </thead>\n",
       "  <tbody>\n",
       "    <tr>\n",
       "      <th>107844</th>\n",
       "      <td>12103064</td>\n",
       "      <td>13500</td>\n",
       "      <td>0.0</td>\n",
       "      <td>1.0</td>\n",
       "      <td>0.0</td>\n",
       "      <td>1.0</td>\n",
       "      <td>0.0</td>\n",
       "      <td>45000.0</td>\n",
       "      <td>2454.3</td>\n",
       "      <td>Alone</td>\n",
       "      <td>...</td>\n",
       "      <td>Yes</td>\n",
       "      <td>Yes</td>\n",
       "      <td>Business Entity Type 3</td>\n",
       "      <td>NaN</td>\n",
       "      <td>0.449978</td>\n",
       "      <td>NaN</td>\n",
       "      <td>0.1608</td>\n",
       "      <td>179.0</td>\n",
       "      <td>NaN</td>\n",
       "      <td>0</td>\n",
       "    </tr>\n",
       "    <tr>\n",
       "      <th>90889</th>\n",
       "      <td>12218557</td>\n",
       "      <td>6750</td>\n",
       "      <td>0.0</td>\n",
       "      <td>0.0</td>\n",
       "      <td>1.0</td>\n",
       "      <td>1.0</td>\n",
       "      <td>0.0</td>\n",
       "      <td>31500.0</td>\n",
       "      <td>2538.45</td>\n",
       "      <td>Relative</td>\n",
       "      <td>...</td>\n",
       "      <td>Yes</td>\n",
       "      <td>Yes</td>\n",
       "      <td>Industry: type 3</td>\n",
       "      <td>NaN</td>\n",
       "      <td>0.311567</td>\n",
       "      <td>0.598926</td>\n",
       "      <td>NaN</td>\n",
       "      <td>0.0</td>\n",
       "      <td>0.0</td>\n",
       "      <td>0</td>\n",
       "    </tr>\n",
       "    <tr>\n",
       "      <th>109617</th>\n",
       "      <td>12127194</td>\n",
       "      <td>13500</td>\n",
       "      <td>0.0</td>\n",
       "      <td>1.0</td>\n",
       "      <td>1.0</td>\n",
       "      <td>0.0</td>\n",
       "      <td>2.0</td>\n",
       "      <td>134550.0</td>\n",
       "      <td>NaN</td>\n",
       "      <td>Alone</td>\n",
       "      <td>...</td>\n",
       "      <td>Yes</td>\n",
       "      <td>Yes</td>\n",
       "      <td>Other</td>\n",
       "      <td>0.603943</td>\n",
       "      <td>0.718013</td>\n",
       "      <td>0.643026</td>\n",
       "      <td>0.0722</td>\n",
       "      <td>0.0</td>\n",
       "      <td>0.0</td>\n",
       "      <td>0</td>\n",
       "    </tr>\n",
       "    <tr>\n",
       "      <th>84122</th>\n",
       "      <td>12141290</td>\n",
       "      <td>18000</td>\n",
       "      <td>1.0</td>\n",
       "      <td>1.0</td>\n",
       "      <td>1.0</td>\n",
       "      <td>1.0</td>\n",
       "      <td>0.0</td>\n",
       "      <td>84941.55</td>\n",
       "      <td>3754.35</td>\n",
       "      <td>Alone</td>\n",
       "      <td>...</td>\n",
       "      <td>Yes</td>\n",
       "      <td>Yes</td>\n",
       "      <td>Police</td>\n",
       "      <td>0.599806</td>\n",
       "      <td>0.363416</td>\n",
       "      <td>0.389339</td>\n",
       "      <td>0.1309</td>\n",
       "      <td>3413.0</td>\n",
       "      <td>2.0</td>\n",
       "      <td>0</td>\n",
       "    </tr>\n",
       "    <tr>\n",
       "      <th>60416</th>\n",
       "      <td>12126069</td>\n",
       "      <td>18000.0</td>\n",
       "      <td>1.0</td>\n",
       "      <td>1.0</td>\n",
       "      <td>1.0</td>\n",
       "      <td>1.0</td>\n",
       "      <td>2.0</td>\n",
       "      <td>72778.5</td>\n",
       "      <td>NaN</td>\n",
       "      <td>Alone</td>\n",
       "      <td>...</td>\n",
       "      <td>Yes</td>\n",
       "      <td>Yes</td>\n",
       "      <td>School</td>\n",
       "      <td>0.555443</td>\n",
       "      <td>0.611657</td>\n",
       "      <td>0.49206</td>\n",
       "      <td>NaN</td>\n",
       "      <td>2767.0</td>\n",
       "      <td>2.0</td>\n",
       "      <td>0</td>\n",
       "    </tr>\n",
       "  </tbody>\n",
       "</table>\n",
       "<p>5 rows × 40 columns</p>\n",
       "</div>"
      ],
      "text/plain": [
       "              ID Client_Income  Car_Owned  Bike_Owned  Active_Loan  House_Own  \\\n",
       "107844  12103064         13500        0.0         1.0          0.0        1.0   \n",
       "90889   12218557          6750        0.0         0.0          1.0        1.0   \n",
       "109617  12127194         13500        0.0         1.0          1.0        0.0   \n",
       "84122   12141290         18000        1.0         1.0          1.0        1.0   \n",
       "60416   12126069       18000.0        1.0         1.0          1.0        1.0   \n",
       "\n",
       "        Child_Count Credit_Amount Loan_Annuity Accompany_Client  ...  \\\n",
       "107844          0.0       45000.0       2454.3            Alone  ...   \n",
       "90889           0.0       31500.0      2538.45         Relative  ...   \n",
       "109617          2.0      134550.0          NaN            Alone  ...   \n",
       "84122           0.0      84941.55      3754.35            Alone  ...   \n",
       "60416           2.0       72778.5          NaN            Alone  ...   \n",
       "\n",
       "       Client_Permanent_Match_Tag Client_Contact_Work_Tag  \\\n",
       "107844                        Yes                     Yes   \n",
       "90889                         Yes                     Yes   \n",
       "109617                        Yes                     Yes   \n",
       "84122                         Yes                     Yes   \n",
       "60416                         Yes                     Yes   \n",
       "\n",
       "             Type_Organization Score_Source_1 Score_Source_2 Score_Source_3  \\\n",
       "107844  Business Entity Type 3            NaN       0.449978            NaN   \n",
       "90889         Industry: type 3            NaN       0.311567       0.598926   \n",
       "109617                   Other       0.603943       0.718013       0.643026   \n",
       "84122                   Police       0.599806       0.363416       0.389339   \n",
       "60416                   School       0.555443       0.611657        0.49206   \n",
       "\n",
       "       Social_Circle_Default Phone_Change Credit_Bureau Default  \n",
       "107844                0.1608        179.0           NaN       0  \n",
       "90889                    NaN          0.0           0.0       0  \n",
       "109617                0.0722          0.0           0.0       0  \n",
       "84122                 0.1309       3413.0           2.0       0  \n",
       "60416                    NaN       2767.0           2.0       0  \n",
       "\n",
       "[5 rows x 40 columns]"
      ]
     },
     "execution_count": 14,
     "metadata": {},
     "output_type": "execute_result"
    }
   ],
   "source": [
    "Fulldf.sample(5)"
   ]
  },
  {
   "cell_type": "code",
   "execution_count": 12,
   "id": "0e2d602f-c1b7-4666-a1fd-8422a8d5c453",
   "metadata": {},
   "outputs": [
    {
     "name": "stdout",
     "output_type": "stream",
     "text": [
      "ID                              int64\n",
      "Client_Income                  object\n",
      "Car_Owned                     float64\n",
      "Bike_Owned                    float64\n",
      "Active_Loan                   float64\n",
      "House_Own                     float64\n",
      "Child_Count                   float64\n",
      "Credit_Amount                  object\n",
      "Loan_Annuity                   object\n",
      "Accompany_Client               object\n",
      "Client_Income_Type             object\n",
      "Client_Education               object\n",
      "Client_Marital_Status          object\n",
      "Client_Gender                  object\n",
      "Loan_Contract_Type             object\n",
      "Client_Housing_Type            object\n",
      "Population_Region_Relative     object\n",
      "Age_Days                       object\n",
      "Employed_Days                  object\n",
      "Registration_Days              object\n",
      "ID_Days                        object\n",
      "Own_House_Age                 float64\n",
      "Mobile_Tag                      int64\n",
      "Homephone_Tag                   int64\n",
      "Workphone_Working               int64\n",
      "Client_Occupation              object\n",
      "Client_Family_Members         float64\n",
      "Cleint_City_Rating            float64\n",
      "Application_Process_Day       float64\n",
      "Application_Process_Hour      float64\n",
      "Client_Permanent_Match_Tag     object\n",
      "Client_Contact_Work_Tag        object\n",
      "Type_Organization              object\n",
      "Score_Source_1                float64\n",
      "Score_Source_2                float64\n",
      "Score_Source_3                 object\n",
      "Social_Circle_Default         float64\n",
      "Phone_Change                  float64\n",
      "Credit_Bureau                 float64\n",
      "Default                         int64\n",
      "dtype: object\n"
     ]
    }
   ],
   "source": [
    "print(Fulldf.dtypes)"
   ]
  },
  {
   "cell_type": "markdown",
   "id": "dcd0b7da-49fd-4914-886a-5cc67d50465b",
   "metadata": {},
   "source": [
    "<h2>Null percentage</h2>"
   ]
  },
  {
   "cell_type": "code",
   "execution_count": 16,
   "id": "ea548788-cfdd-424a-a03e-cfcff9b17e4c",
   "metadata": {},
   "outputs": [
    {
     "data": {
      "text/plain": [
       "ID                             0.00\n",
       "Client_Income                  2.96\n",
       "Car_Owned                      2.94\n",
       "Bike_Owned                     2.97\n",
       "Active_Loan                    2.98\n",
       "House_Own                      3.00\n",
       "Child_Count                    2.99\n",
       "Credit_Amount                  2.98\n",
       "Loan_Annuity                   3.95\n",
       "Accompany_Client               1.43\n",
       "Client_Income_Type             3.04\n",
       "Client_Education               2.99\n",
       "Client_Marital_Status          2.85\n",
       "Client_Gender                  1.98\n",
       "Loan_Contract_Type             3.00\n",
       "Client_Housing_Type            3.03\n",
       "Population_Region_Relative     3.99\n",
       "Age_Days                       2.95\n",
       "Employed_Days                  2.99\n",
       "Registration_Days              2.97\n",
       "ID_Days                        4.90\n",
       "Own_House_Age                 65.73\n",
       "Mobile_Tag                     0.00\n",
       "Homephone_Tag                  0.00\n",
       "Workphone_Working              0.00\n",
       "Client_Occupation             34.00\n",
       "Client_Family_Members          1.98\n",
       "Cleint_City_Rating             1.98\n",
       "Application_Process_Day        1.99\n",
       "Application_Process_Hour       3.01\n",
       "Client_Permanent_Match_Tag     0.00\n",
       "Client_Contact_Work_Tag        0.00\n",
       "Type_Organization              2.96\n",
       "Score_Source_1                56.49\n",
       "Score_Source_2                 4.67\n",
       "Score_Source_3                22.09\n",
       "Social_Circle_Default         50.82\n",
       "Phone_Change                   3.01\n",
       "Credit_Bureau                 15.21\n",
       "Default                        0.00\n",
       "dtype: float64"
      ]
     },
     "execution_count": 16,
     "metadata": {},
     "output_type": "execute_result"
    }
   ],
   "source": [
    "per_miss = Fulldf.isnull().sum()/Fulldf.shape[0] * 100\n",
    "np.round(per_miss, decimals=2)"
   ]
  },
  {
   "cell_type": "code",
   "execution_count": 33,
   "id": "d2ba9538-6443-4f0c-8de1-fc989a345510",
   "metadata": {},
   "outputs": [
    {
     "data": {
      "text/plain": [
       "Client_Income                 3620\n",
       "Car_Owned                     3572\n",
       "Bike_Owned                    3618\n",
       "Active_Loan                   3630\n",
       "House_Own                     3657\n",
       "Child_Count                   3635\n",
       "Credit_Amount                 3634\n",
       "Loan_Annuity                  4821\n",
       "Client_Income_Type            3694\n",
       "Client_Education              3640\n",
       "Client_Marital_Status         3472\n",
       "Client_Gender                 2410\n",
       "Loan_Contract_Type            3644\n",
       "Age_Days                      3610\n",
       "Employed_Days                 3660\n",
       "Registration_Days             3626\n",
       "ID_Days                       5970\n",
       "Client_Family_Members         2409\n",
       "Client_Permanent_Match_Tag       0\n",
       "Client_Contact_Work_Tag          0\n",
       "Default                          0\n",
       "dtype: int64"
      ]
     },
     "execution_count": 33,
     "metadata": {},
     "output_type": "execute_result"
    }
   ],
   "source": [
    "# Count null values in each column\n",
    "null_value_counts = df.isnull().sum()\n",
    "\n",
    "# Display the counts of null values\n",
    "null_value_counts"
   ]
  },
  {
   "cell_type": "markdown",
   "id": "9e0eed8c-e5f9-4690-ab7a-b643e983d401",
   "metadata": {},
   "source": [
    "<h2>Convert columns to numeric</h2>"
   ]
  },
  {
   "cell_type": "code",
   "execution_count": 18,
   "id": "59feb74d-4190-4184-b0e1-99063f3266d2",
   "metadata": {},
   "outputs": [
    {
     "name": "stdout",
     "output_type": "stream",
     "text": [
      "ID                              int64\n",
      "Client_Income                 float64\n",
      "Car_Owned                     float64\n",
      "Bike_Owned                    float64\n",
      "Active_Loan                   float64\n",
      "House_Own                     float64\n",
      "Child_Count                   float64\n",
      "Credit_Amount                 float64\n",
      "Loan_Annuity                  float64\n",
      "Accompany_Client               object\n",
      "Client_Income_Type             object\n",
      "Client_Education               object\n",
      "Client_Marital_Status          object\n",
      "Client_Gender                  object\n",
      "Loan_Contract_Type             object\n",
      "Client_Housing_Type            object\n",
      "Population_Region_Relative    float64\n",
      "Age_Days                      float64\n",
      "Employed_Days                 float64\n",
      "Registration_Days             float64\n",
      "ID_Days                       float64\n",
      "Own_House_Age                 float64\n",
      "Mobile_Tag                      int64\n",
      "Homephone_Tag                   int64\n",
      "Workphone_Working               int64\n",
      "Client_Occupation              object\n",
      "Client_Family_Members         float64\n",
      "Cleint_City_Rating            float64\n",
      "Application_Process_Day       float64\n",
      "Application_Process_Hour      float64\n",
      "Client_Permanent_Match_Tag     object\n",
      "Client_Contact_Work_Tag        object\n",
      "Type_Organization              object\n",
      "Score_Source_1                float64\n",
      "Score_Source_2                float64\n",
      "Score_Source_3                float64\n",
      "Social_Circle_Default         float64\n",
      "Phone_Change                  float64\n",
      "Credit_Bureau                 float64\n",
      "Default                         int64\n",
      "dtype: object\n"
     ]
    }
   ],
   "source": [
    "# List of columns that need to be converted to numeric\n",
    "columns_to_convert = [\n",
    "    'Client_Income', 'Credit_Amount', 'Loan_Annuity', 'Population_Region_Relative',\n",
    "    'Age_Days', 'Employed_Days', 'Registration_Days', 'ID_Days', 'Score_Source_3'\n",
    "]\n",
    "\n",
    "# Convert columns to numeric and coerce errors to NaN\n",
    "for col in columns_to_convert:\n",
    "    Fulldf[col] = pd.to_numeric(Fulldf[col], errors='coerce')\n",
    "\n",
    "# Display the updated data types\n",
    "print(Fulldf.dtypes)\n"
   ]
  },
  {
   "cell_type": "markdown",
   "id": "4e7df676-8a64-4ba0-9845-a6b6e0a216ad",
   "metadata": {},
   "source": [
    "<h2>Drop columns</h2>"
   ]
  },
  {
   "cell_type": "code",
   "execution_count": 20,
   "id": "8f58e4fc-95cd-4084-8b8a-e1ebcfa9675d",
   "metadata": {},
   "outputs": [],
   "source": [
    "#list of columns which droped\n",
    "\n",
    "df = Fulldf.drop(columns=['ID','Score_Source_1','Social_Circle_Default','Score_Source_2','Score_Source_3','Credit_Bureau','Accompany_Client','Population_Region_Relative'\n",
    ",'Own_House_Age','Mobile_Tag','Client_Housing_Type','Client_Occupation','Homephone_Tag','Workphone_Working','Cleint_City_Rating','Application_Process_Day','Application_Process_Hour','Type_Organization','Phone_Change'])"
   ]
  },
  {
   "cell_type": "code",
   "execution_count": 26,
   "id": "d6eb5a77-5081-450d-8016-b055280800d4",
   "metadata": {},
   "outputs": [
    {
     "name": "stdout",
     "output_type": "stream",
     "text": [
      "Index(['Client_Income', 'Car_Owned', 'Bike_Owned', 'Active_Loan', 'House_Own',\n",
      "       'Child_Count', 'Credit_Amount', 'Loan_Annuity', 'Client_Income_Type',\n",
      "       'Client_Education', 'Client_Marital_Status', 'Client_Gender',\n",
      "       'Loan_Contract_Type', 'Age_Days', 'Employed_Days', 'Registration_Days',\n",
      "       'ID_Days', 'Client_Family_Members', 'Client_Permanent_Match_Tag',\n",
      "       'Client_Contact_Work_Tag', 'Default'],\n",
      "      dtype='object')\n"
     ]
    }
   ],
   "source": [
    "print(df.columns)"
   ]
  },
  {
   "cell_type": "markdown",
   "id": "29ea1708-33ce-44af-bcb5-923ffb6d0711",
   "metadata": {},
   "source": [
    "<h2>Remove Duplicates</h2>"
   ]
  },
  {
   "cell_type": "code",
   "execution_count": 29,
   "id": "47aa6004-7e09-4b20-840d-09bc38be5f71",
   "metadata": {},
   "outputs": [
    {
     "name": "stdout",
     "output_type": "stream",
     "text": [
      "Number of duplicate rows based on all columns: 5050\n"
     ]
    }
   ],
   "source": [
    "# Count the number of duplicate rows across all columns\n",
    "duplicate_count_all = df.duplicated(keep='first').sum()\n",
    "\n",
    "print(f\"Number of duplicate rows based on all columns: {duplicate_count_all}\")"
   ]
  },
  {
   "cell_type": "code",
   "execution_count": 31,
   "id": "cc44d842-64d9-4ed1-b24a-59d46306cc23",
   "metadata": {},
   "outputs": [
    {
     "name": "stdout",
     "output_type": "stream",
     "text": [
      "Number of duplicate rows after dropping: 0\n"
     ]
    }
   ],
   "source": [
    "# Drop duplicate rows while keeping the first occurrence\n",
    "df = df.drop_duplicates(keep='first')\n",
    "\n",
    "# Count the number of duplicate rows after dropping\n",
    "duplicate_count_after = df.duplicated(keep='first').sum()\n",
    "\n",
    "print(f\"Number of duplicate rows after dropping: {duplicate_count_after}\")"
   ]
  },
  {
   "cell_type": "markdown",
   "id": "be343fae-2195-4ae4-a57f-33d8d4d47c36",
   "metadata": {},
   "source": [
    "<h2>Check data misses</h2>"
   ]
  },
  {
   "cell_type": "code",
   "execution_count": 36,
   "id": "0740a73d-cf42-4663-8cb8-30f9755ffd9e",
   "metadata": {},
   "outputs": [
    {
     "data": {
      "text/plain": [
       "({'Client_Income_Type': 0,\n",
       "  'Client_Education': 0,\n",
       "  'Client_Marital_Status': 0,\n",
       "  'Client_Gender': 0,\n",
       "  'Loan_Contract_Type': 0,\n",
       "  'Client_Permanent_Match_Tag': 0,\n",
       "  'Client_Contact_Work_Tag': 0},\n",
       " {'Client_Income': 0,\n",
       "  'Car_Owned': 0,\n",
       "  'Bike_Owned': 0,\n",
       "  'Active_Loan': 0,\n",
       "  'House_Own': 0,\n",
       "  'Child_Count': 0,\n",
       "  'Credit_Amount': 0,\n",
       "  'Loan_Annuity': 0,\n",
       "  'Age_Days': 0,\n",
       "  'Employed_Days': 0,\n",
       "  'Registration_Days': 0,\n",
       "  'ID_Days': 0,\n",
       "  'Client_Family_Members': 0,\n",
       "  'Default': 0})"
      ]
     },
     "execution_count": 36,
     "metadata": {},
     "output_type": "execute_result"
    }
   ],
   "source": [
    "# Check for numerical values in categorical columns and categorical values in numerical columns\n",
    "\n",
    "# Define categorical and numerical columns based on the DataFrame\n",
    "categorical_columns = df.select_dtypes(include='object').columns\n",
    "numerical_columns = df.select_dtypes(exclude='object').columns\n",
    "\n",
    "# Check categorical columns for numerical values\n",
    "categorical_numerical_values = {col: df[col].str.isnumeric().sum() for col in categorical_columns}\n",
    "\n",
    "# Check numerical columns for categorical values\n",
    "numerical_categorical_values = {\n",
    "    col: df[col][~df[col].apply(lambda x: isinstance(x, (int, float)))].count()\n",
    "    for col in numerical_columns\n",
    "}\n",
    "\n",
    "categorical_numerical_values, numerical_categorical_values\n"
   ]
  },
  {
   "cell_type": "markdown",
   "id": "b7b9bd9c-307f-443a-a7a6-c657a48749e7",
   "metadata": {},
   "source": [
    "<h1>Remove Unwanted </h1>"
   ]
  },
  {
   "cell_type": "markdown",
   "id": "fda7a3df-3015-444a-8942-dbaa300f1e0c",
   "metadata": {},
   "source": [
    "<h2>check simbols and unneccassery caractors</h2>"
   ]
  },
  {
   "cell_type": "code",
   "execution_count": 39,
   "id": "c135a5ec-abc9-445c-9465-a7992361ec65",
   "metadata": {},
   "outputs": [
    {
     "data": {
      "text/plain": [
       "{'Client_Income': 0,\n",
       " 'Car_Owned': 0,\n",
       " 'Bike_Owned': 0,\n",
       " 'Active_Loan': 0,\n",
       " 'House_Own': 0,\n",
       " 'Child_Count': 0,\n",
       " 'Credit_Amount': 0,\n",
       " 'Loan_Annuity': 0,\n",
       " 'Client_Income_Type': 0,\n",
       " 'Client_Education': 0,\n",
       " 'Client_Marital_Status': 0,\n",
       " 'Client_Gender': 0,\n",
       " 'Loan_Contract_Type': 0,\n",
       " 'Age_Days': 0,\n",
       " 'Employed_Days': 0,\n",
       " 'Registration_Days': 0,\n",
       " 'ID_Days': 0,\n",
       " 'Client_Family_Members': 0,\n",
       " 'Client_Permanent_Match_Tag': 0,\n",
       " 'Client_Contact_Work_Tag': 0,\n",
       " 'Default': 0}"
      ]
     },
     "execution_count": 39,
     "metadata": {},
     "output_type": "execute_result"
    }
   ],
   "source": [
    "# Function to check for special characters in each column of the DataFrame\n",
    "def check_special_characters(df):\n",
    "    special_chars = r'[@#$]'\n",
    "    special_char_counts = {}\n",
    "\n",
    "    for col in df.columns:\n",
    "        # Count the occurrences of special characters in the column\n",
    "        count = df[col].astype(str).str.contains(special_chars).sum()\n",
    "        special_char_counts[col] = count\n",
    "\n",
    "    return special_char_counts\n",
    "\n",
    "# Check for special characters in each column\n",
    "special_character_counts = check_special_characters(df)\n",
    "\n",
    "special_character_counts\n"
   ]
  },
  {
   "cell_type": "code",
   "execution_count": 41,
   "id": "a9692ca7-122e-4765-b300-57e50fcd35d6",
   "metadata": {},
   "outputs": [
    {
     "name": "stdout",
     "output_type": "stream",
     "text": [
      "Original DataFrame shape: (116806, 21)\n",
      "Cleaned DataFrame shape: (65005, 21)\n"
     ]
    }
   ],
   "source": [
    "# Drop all rows with NaN values\n",
    "df_cleaned = df.dropna()\n",
    "\n",
    "# Display the shape of the cleaned DataFrame\n",
    "print(f\"Original DataFrame shape: {df.shape}\")\n",
    "print(f\"Cleaned DataFrame shape: {df_cleaned.shape}\")"
   ]
  },
  {
   "cell_type": "markdown",
   "id": "4ef158fa-ea95-47f7-af68-cc472bcda98a",
   "metadata": {},
   "source": [
    "<h2>remove XNA</h2>"
   ]
  },
  {
   "cell_type": "code",
   "execution_count": null,
   "id": "6d478a0c-1315-47d9-875f-741b7f652985",
   "metadata": {},
   "outputs": [],
   "source": [
    "# Check for NaN values\n",
    "nan_counts = df.isna().sum()\n",
    "\n",
    "# Check for XNA values\n",
    "xna_counts = (df == 'XNA').sum()\n",
    "\n",
    "# Combine results into a single DataFrame for easier viewing\n",
    "nan_xna_counts = pd.DataFrame({'NaN Count': nan_counts, 'XNA Count': xna_counts})\n",
    "\n",
    "print(nan_xna_counts)"
   ]
  },
  {
   "cell_type": "code",
   "execution_count": 45,
   "id": "98e8ab5f-2a5a-48f2-99cd-6729146f8c83",
   "metadata": {},
   "outputs": [
    {
     "name": "stdout",
     "output_type": "stream",
     "text": [
      "Cleaned DataFrame shape: (65003, 21)\n"
     ]
    }
   ],
   "source": [
    "# Drop all rows with NaN or XNA values\n",
    "df_cleaned = df.dropna().loc[~df.isin(['XNA']).any(axis=1)]\n",
    "\n",
    "# Display the shape of the cleaned DataFrame\n",
    "print(f\"Cleaned DataFrame shape: {df_cleaned.shape}\")"
   ]
  },
  {
   "cell_type": "code",
   "execution_count": 47,
   "id": "1254226f-f621-4224-bdf1-0f8b616b0774",
   "metadata": {},
   "outputs": [
    {
     "name": "stdout",
     "output_type": "stream",
     "text": [
      "                            NaN Count  XNA Count\n",
      "Client_Income                    3620          0\n",
      "Car_Owned                        3572          0\n",
      "Bike_Owned                       3618          0\n",
      "Active_Loan                      3630          0\n",
      "House_Own                        3657          0\n",
      "Child_Count                      3635          0\n",
      "Credit_Amount                    3634          0\n",
      "Loan_Annuity                     4821          0\n",
      "Client_Income_Type               3694          0\n",
      "Client_Education                 3640          0\n",
      "Client_Marital_Status            3472          0\n",
      "Client_Gender                    2410          3\n",
      "Loan_Contract_Type               3644          0\n",
      "Age_Days                         3610          0\n",
      "Employed_Days                    3660          0\n",
      "Registration_Days                3626          0\n",
      "ID_Days                          5970          0\n",
      "Client_Family_Members            2409          0\n",
      "Client_Permanent_Match_Tag          0          0\n",
      "Client_Contact_Work_Tag             0          0\n",
      "Default                             0          0\n"
     ]
    }
   ],
   "source": [
    "# Check for NaN values\n",
    "nan_counts = df.isna().sum()\n",
    "\n",
    "# Check for XNA values\n",
    "xna_counts = (df == 'XNA').sum()\n",
    "\n",
    "# Combine results into a single DataFrame for easier viewing\n",
    "nan_xna_counts = pd.DataFrame({'NaN Count': nan_counts, 'XNA Count': xna_counts})\n",
    "\n",
    "print(nan_xna_counts)"
   ]
  },
  {
   "cell_type": "code",
   "execution_count": 49,
   "id": "81e37ca0-6b2f-40d1-ae8b-c56f88bc0836",
   "metadata": {},
   "outputs": [
    {
     "data": {
      "text/html": [
       "<div>\n",
       "<style scoped>\n",
       "    .dataframe tbody tr th:only-of-type {\n",
       "        vertical-align: middle;\n",
       "    }\n",
       "\n",
       "    .dataframe tbody tr th {\n",
       "        vertical-align: top;\n",
       "    }\n",
       "\n",
       "    .dataframe thead th {\n",
       "        text-align: right;\n",
       "    }\n",
       "</style>\n",
       "<table border=\"1\" class=\"dataframe\">\n",
       "  <thead>\n",
       "    <tr style=\"text-align: right;\">\n",
       "      <th></th>\n",
       "      <th>Client_Income</th>\n",
       "      <th>Car_Owned</th>\n",
       "      <th>Bike_Owned</th>\n",
       "      <th>Active_Loan</th>\n",
       "      <th>House_Own</th>\n",
       "      <th>Child_Count</th>\n",
       "      <th>Credit_Amount</th>\n",
       "      <th>Loan_Annuity</th>\n",
       "      <th>Client_Income_Type</th>\n",
       "      <th>Client_Education</th>\n",
       "      <th>...</th>\n",
       "      <th>Client_Gender</th>\n",
       "      <th>Loan_Contract_Type</th>\n",
       "      <th>Age_Days</th>\n",
       "      <th>Employed_Days</th>\n",
       "      <th>Registration_Days</th>\n",
       "      <th>ID_Days</th>\n",
       "      <th>Client_Family_Members</th>\n",
       "      <th>Client_Permanent_Match_Tag</th>\n",
       "      <th>Client_Contact_Work_Tag</th>\n",
       "      <th>Default</th>\n",
       "    </tr>\n",
       "  </thead>\n",
       "  <tbody>\n",
       "    <tr>\n",
       "      <th>0</th>\n",
       "      <td>6750.0</td>\n",
       "      <td>0.0</td>\n",
       "      <td>0.0</td>\n",
       "      <td>1.0</td>\n",
       "      <td>0.0</td>\n",
       "      <td>0.0</td>\n",
       "      <td>61190.55</td>\n",
       "      <td>3416.85</td>\n",
       "      <td>Commercial</td>\n",
       "      <td>Secondary</td>\n",
       "      <td>...</td>\n",
       "      <td>Male</td>\n",
       "      <td>CL</td>\n",
       "      <td>13957.0</td>\n",
       "      <td>1062.0</td>\n",
       "      <td>6123.0</td>\n",
       "      <td>383.0</td>\n",
       "      <td>2.0</td>\n",
       "      <td>Yes</td>\n",
       "      <td>Yes</td>\n",
       "      <td>0</td>\n",
       "    </tr>\n",
       "    <tr>\n",
       "      <th>4</th>\n",
       "      <td>33750.0</td>\n",
       "      <td>1.0</td>\n",
       "      <td>0.0</td>\n",
       "      <td>1.0</td>\n",
       "      <td>0.0</td>\n",
       "      <td>2.0</td>\n",
       "      <td>133988.40</td>\n",
       "      <td>3547.35</td>\n",
       "      <td>Commercial</td>\n",
       "      <td>Secondary</td>\n",
       "      <td>...</td>\n",
       "      <td>Female</td>\n",
       "      <td>CL</td>\n",
       "      <td>11366.0</td>\n",
       "      <td>2977.0</td>\n",
       "      <td>5516.0</td>\n",
       "      <td>4043.0</td>\n",
       "      <td>4.0</td>\n",
       "      <td>Yes</td>\n",
       "      <td>Yes</td>\n",
       "      <td>0</td>\n",
       "    </tr>\n",
       "    <tr>\n",
       "      <th>5</th>\n",
       "      <td>11250.0</td>\n",
       "      <td>0.0</td>\n",
       "      <td>1.0</td>\n",
       "      <td>1.0</td>\n",
       "      <td>1.0</td>\n",
       "      <td>1.0</td>\n",
       "      <td>13752.00</td>\n",
       "      <td>653.85</td>\n",
       "      <td>Service</td>\n",
       "      <td>Secondary</td>\n",
       "      <td>...</td>\n",
       "      <td>Female</td>\n",
       "      <td>CL</td>\n",
       "      <td>13881.0</td>\n",
       "      <td>1184.0</td>\n",
       "      <td>3910.0</td>\n",
       "      <td>3910.0</td>\n",
       "      <td>2.0</td>\n",
       "      <td>Yes</td>\n",
       "      <td>Yes</td>\n",
       "      <td>0</td>\n",
       "    </tr>\n",
       "    <tr>\n",
       "      <th>6</th>\n",
       "      <td>15750.0</td>\n",
       "      <td>1.0</td>\n",
       "      <td>1.0</td>\n",
       "      <td>0.0</td>\n",
       "      <td>1.0</td>\n",
       "      <td>0.0</td>\n",
       "      <td>128835.00</td>\n",
       "      <td>3779.55</td>\n",
       "      <td>Retired</td>\n",
       "      <td>Secondary</td>\n",
       "      <td>...</td>\n",
       "      <td>Male</td>\n",
       "      <td>CL</td>\n",
       "      <td>21323.0</td>\n",
       "      <td>365243.0</td>\n",
       "      <td>113.0</td>\n",
       "      <td>4855.0</td>\n",
       "      <td>1.0</td>\n",
       "      <td>Yes</td>\n",
       "      <td>Yes</td>\n",
       "      <td>0</td>\n",
       "    </tr>\n",
       "    <tr>\n",
       "      <th>7</th>\n",
       "      <td>13500.0</td>\n",
       "      <td>0.0</td>\n",
       "      <td>0.0</td>\n",
       "      <td>1.0</td>\n",
       "      <td>1.0</td>\n",
       "      <td>0.0</td>\n",
       "      <td>60415.20</td>\n",
       "      <td>3097.80</td>\n",
       "      <td>Retired</td>\n",
       "      <td>Secondary</td>\n",
       "      <td>...</td>\n",
       "      <td>Male</td>\n",
       "      <td>CL</td>\n",
       "      <td>22493.0</td>\n",
       "      <td>365243.0</td>\n",
       "      <td>12617.0</td>\n",
       "      <td>5280.0</td>\n",
       "      <td>2.0</td>\n",
       "      <td>Yes</td>\n",
       "      <td>Yes</td>\n",
       "      <td>0</td>\n",
       "    </tr>\n",
       "  </tbody>\n",
       "</table>\n",
       "<p>5 rows × 21 columns</p>\n",
       "</div>"
      ],
      "text/plain": [
       "   Client_Income  Car_Owned  Bike_Owned  Active_Loan  House_Own  Child_Count  \\\n",
       "0         6750.0        0.0         0.0          1.0        0.0          0.0   \n",
       "4        33750.0        1.0         0.0          1.0        0.0          2.0   \n",
       "5        11250.0        0.0         1.0          1.0        1.0          1.0   \n",
       "6        15750.0        1.0         1.0          0.0        1.0          0.0   \n",
       "7        13500.0        0.0         0.0          1.0        1.0          0.0   \n",
       "\n",
       "   Credit_Amount  Loan_Annuity Client_Income_Type Client_Education  ...  \\\n",
       "0       61190.55       3416.85         Commercial        Secondary  ...   \n",
       "4      133988.40       3547.35         Commercial        Secondary  ...   \n",
       "5       13752.00        653.85            Service        Secondary  ...   \n",
       "6      128835.00       3779.55            Retired        Secondary  ...   \n",
       "7       60415.20       3097.80            Retired        Secondary  ...   \n",
       "\n",
       "  Client_Gender Loan_Contract_Type Age_Days  Employed_Days  Registration_Days  \\\n",
       "0          Male                 CL  13957.0         1062.0             6123.0   \n",
       "4        Female                 CL  11366.0         2977.0             5516.0   \n",
       "5        Female                 CL  13881.0         1184.0             3910.0   \n",
       "6          Male                 CL  21323.0       365243.0              113.0   \n",
       "7          Male                 CL  22493.0       365243.0            12617.0   \n",
       "\n",
       "   ID_Days  Client_Family_Members  Client_Permanent_Match_Tag  \\\n",
       "0    383.0                    2.0                         Yes   \n",
       "4   4043.0                    4.0                         Yes   \n",
       "5   3910.0                    2.0                         Yes   \n",
       "6   4855.0                    1.0                         Yes   \n",
       "7   5280.0                    2.0                         Yes   \n",
       "\n",
       "  Client_Contact_Work_Tag Default  \n",
       "0                     Yes       0  \n",
       "4                     Yes       0  \n",
       "5                     Yes       0  \n",
       "6                     Yes       0  \n",
       "7                     Yes       0  \n",
       "\n",
       "[5 rows x 21 columns]"
      ]
     },
     "execution_count": 49,
     "metadata": {},
     "output_type": "execute_result"
    }
   ],
   "source": [
    "import re\n",
    "\n",
    "# Replace 'XNA' with NaN\n",
    "df = df.replace('XNA', pd.NA)\n",
    "\n",
    "# Drop rows where any column has NaN values\n",
    "df = df.dropna()\n",
    "\n",
    "\n",
    "# 2. Function to remove special characters except for string words\n",
    "def remove_special_chars(text):\n",
    "    if isinstance(text, str):\n",
    "        # Replace special characters (@, #, $, etc.) with an empty string\n",
    "        return re.sub(r'[^A-Za-z0-9\\s]', '', text)\n",
    "    return text\n",
    "\n",
    "# Apply the function to all string columns\n",
    "df = df.applymap(remove_special_chars)\n",
    "\n",
    "df.head()"
   ]
  },
  {
   "cell_type": "code",
   "execution_count": 55,
   "id": "81aec62a-3333-41d8-a4c9-2ad861f25315",
   "metadata": {},
   "outputs": [
    {
     "name": "stdout",
     "output_type": "stream",
     "text": [
      "                            NaN Count  XNA Count\n",
      "Client_Income                       0          0\n",
      "Car_Owned                           0          0\n",
      "Bike_Owned                          0          0\n",
      "Active_Loan                         0          0\n",
      "House_Own                           0          0\n",
      "Child_Count                         0          0\n",
      "Credit_Amount                       0          0\n",
      "Loan_Annuity                        0          0\n",
      "Client_Income_Type                  0          0\n",
      "Client_Education                    0          0\n",
      "Client_Marital_Status               0          0\n",
      "Client_Gender                       0          0\n",
      "Loan_Contract_Type                  0          0\n",
      "Age_Days                            0          0\n",
      "Employed_Days                       0          0\n",
      "Registration_Days                   0          0\n",
      "ID_Days                             0          0\n",
      "Client_Family_Members               0          0\n",
      "Client_Permanent_Match_Tag          0          0\n",
      "Client_Contact_Work_Tag             0          0\n",
      "Default                             0          0\n"
     ]
    }
   ],
   "source": [
    "# Check for NaN values\n",
    "nan_counts = df.isna().sum()\n",
    "\n",
    "# Check for XNA values\n",
    "xna_counts = (df == 'XNA').sum()\n",
    "\n",
    "# Combine results into a single DataFrame for easier viewing\n",
    "nan_xna_counts = pd.DataFrame({'NaN Count': nan_counts, 'XNA Count': xna_counts})\n",
    "\n",
    "print(nan_xna_counts)"
   ]
  },
  {
   "cell_type": "code",
   "execution_count": 53,
   "id": "c6554150-426e-425e-b672-0ab39b392261",
   "metadata": {},
   "outputs": [],
   "source": [
    "import re\n",
    "\n",
    "# Alternatively, if you want to fill NaN values with a placeholder, use:\n",
    "# df = df.fillna('')\n",
    "\n",
    "# 2. Function to remove special characters except for string words\n",
    "def remove_special_chars(text):\n",
    "    if isinstance(text, str):\n",
    "        # Replace special characters (@, #, $, etc.) with an empty string\n",
    "        return re.sub(r'[^A-Za-z0-9\\s]', '', text)\n",
    "    return text\n",
    "\n",
    "# Apply the function to all string columns\n",
    "df_cleaned = df_cleaned.applymap(remove_special_chars)\n",
    "\n",
    "# Now the DataFrame has no NaN values and no special characters in string columns"
   ]
  },
  {
   "cell_type": "code",
   "execution_count": 57,
   "id": "67d771d6-c861-4cf7-963c-feecc54fcde7",
   "metadata": {},
   "outputs": [
    {
     "name": "stdout",
     "output_type": "stream",
     "text": [
      "                            NaN Count  XNA Count\n",
      "Client_Income                       0          0\n",
      "Car_Owned                           0          0\n",
      "Bike_Owned                          0          0\n",
      "Active_Loan                         0          0\n",
      "House_Own                           0          0\n",
      "Child_Count                         0          0\n",
      "Credit_Amount                       0          0\n",
      "Loan_Annuity                        0          0\n",
      "Client_Income_Type                  0          0\n",
      "Client_Education                    0          0\n",
      "Client_Marital_Status               0          0\n",
      "Client_Gender                       0          0\n",
      "Loan_Contract_Type                  0          0\n",
      "Age_Days                            0          0\n",
      "Employed_Days                       0          0\n",
      "Registration_Days                   0          0\n",
      "ID_Days                             0          0\n",
      "Client_Family_Members               0          0\n",
      "Client_Permanent_Match_Tag          0          0\n",
      "Client_Contact_Work_Tag             0          0\n",
      "Default                             0          0\n"
     ]
    }
   ],
   "source": [
    "# Check for NaN values\n",
    "nan_counts = df.isna().sum()\n",
    "\n",
    "# Check for XNA values\n",
    "xna_counts = (df == 'XNA').sum()\n",
    "\n",
    "# Combine results into a single DataFrame for easier viewing\n",
    "nan_xna_counts = pd.DataFrame({'NaN Count': nan_counts, 'XNA Count': xna_counts})\n",
    "\n",
    "print(nan_xna_counts)"
   ]
  },
  {
   "cell_type": "code",
   "execution_count": 59,
   "id": "f5aba650-693b-47e2-b6a7-c0c4187727fa",
   "metadata": {},
   "outputs": [],
   "source": [
    "#Remove any remaining rows that now contain NaN\n",
    "df_cleaned = df_cleaned.dropna()"
   ]
  },
  {
   "cell_type": "markdown",
   "id": "9dfbf1d3-1aa8-4443-8bae-d7f1cbf28690",
   "metadata": {},
   "source": [
    "<h1>Encode data set</h1>"
   ]
  },
  {
   "cell_type": "code",
   "execution_count": 62,
   "id": "54fff68e-fb7b-47e2-811c-0e57a5ba2dd1",
   "metadata": {},
   "outputs": [
    {
     "name": "stdout",
     "output_type": "stream",
     "text": [
      "   Client_Income  Car_Owned  Bike_Owned  Active_Loan  House_Own  Child_Count  \\\n",
      "0         6750.0          0           0            1          0          0.0   \n",
      "4        33750.0          1           0            1          0          2.0   \n",
      "5        11250.0          0           1            1          1          1.0   \n",
      "6        15750.0          1           1            0          1          0.0   \n",
      "7        13500.0          0           0            1          1          0.0   \n",
      "\n",
      "   Credit_Amount  Loan_Annuity  Client_Income_Type  Client_Education  ...  \\\n",
      "0       61190.55       3416.85                   1                 4  ...   \n",
      "4      133988.40       3547.35                   1                 4  ...   \n",
      "5       13752.00        653.85                   5                 4  ...   \n",
      "6      128835.00       3779.55                   4                 4  ...   \n",
      "7       60415.20       3097.80                   4                 4  ...   \n",
      "\n",
      "   Client_Gender  Loan_Contract_Type  Age_Days  Employed_Days  \\\n",
      "0              1                   0   13957.0         1062.0   \n",
      "4              0                   0   11366.0         2977.0   \n",
      "5              0                   0   13881.0         1184.0   \n",
      "6              1                   0   21323.0       365243.0   \n",
      "7              1                   0   22493.0       365243.0   \n",
      "\n",
      "   Registration_Days  ID_Days  Client_Family_Members  \\\n",
      "0             6123.0    383.0                    2.0   \n",
      "4             5516.0   4043.0                    4.0   \n",
      "5             3910.0   3910.0                    2.0   \n",
      "6              113.0   4855.0                    1.0   \n",
      "7            12617.0   5280.0                    2.0   \n",
      "\n",
      "   Client_Permanent_Match_Tag  Client_Contact_Work_Tag  Default  \n",
      "0                           1                        1        0  \n",
      "4                           1                        1        0  \n",
      "5                           1                        1        0  \n",
      "6                           1                        1        0  \n",
      "7                           1                        1        0  \n",
      "\n",
      "[5 rows x 21 columns]\n"
     ]
    }
   ],
   "source": [
    "import pandas as pd\n",
    "from sklearn.preprocessing import LabelEncoder\n",
    "\n",
    "columns_to_encode = [\n",
    "   'Car_Owned', 'Bike_Owned', 'Active_Loan', 'House_Own','Client_Income_Type','Client_Education', 'Client_Marital_Status', 'Client_Gender','Loan_Contract_Type',\n",
    "    'Client_Permanent_Match_Tag','Client_Contact_Work_Tag'\n",
    "]\n",
    "\n",
    "# Initialize the LabelEncoder\n",
    "label_encoder = LabelEncoder()\n",
    "\n",
    "# Apply label encoding to each specified column\n",
    "for col in columns_to_encode:\n",
    "    df[col] = label_encoder.fit_transform(df[col].astype(str))\n",
    "\n",
    "# Display the encoded DataFrame\n",
    "print(df.head())\n"
   ]
  },
  {
   "cell_type": "code",
   "execution_count": 64,
   "id": "d36cf234-058c-4abf-b4bc-fc413285a3e5",
   "metadata": {},
   "outputs": [
    {
     "name": "stdout",
     "output_type": "stream",
     "text": [
      "Index(['Client_Income', 'Car_Owned', 'Bike_Owned', 'Active_Loan', 'House_Own',\n",
      "       'Child_Count', 'Credit_Amount', 'Loan_Annuity', 'Client_Income_Type',\n",
      "       'Client_Education', 'Client_Marital_Status', 'Client_Gender',\n",
      "       'Loan_Contract_Type', 'Age_Days', 'Employed_Days', 'Registration_Days',\n",
      "       'ID_Days', 'Client_Family_Members', 'Client_Permanent_Match_Tag',\n",
      "       'Client_Contact_Work_Tag', 'Default'],\n",
      "      dtype='object')\n"
     ]
    },
    {
     "data": {
      "text/plain": [
       "(65003, 21)"
      ]
     },
     "execution_count": 64,
     "metadata": {},
     "output_type": "execute_result"
    }
   ],
   "source": [
    "print(df.columns)\n",
    "df.shape"
   ]
  },
  {
   "cell_type": "code",
   "execution_count": 66,
   "id": "a3ee23de-d8a6-4a08-821e-2d017835bdd9",
   "metadata": {},
   "outputs": [
    {
     "data": {
      "text/html": [
       "<div>\n",
       "<style scoped>\n",
       "    .dataframe tbody tr th:only-of-type {\n",
       "        vertical-align: middle;\n",
       "    }\n",
       "\n",
       "    .dataframe tbody tr th {\n",
       "        vertical-align: top;\n",
       "    }\n",
       "\n",
       "    .dataframe thead th {\n",
       "        text-align: right;\n",
       "    }\n",
       "</style>\n",
       "<table border=\"1\" class=\"dataframe\">\n",
       "  <thead>\n",
       "    <tr style=\"text-align: right;\">\n",
       "      <th></th>\n",
       "      <th>Client_Income</th>\n",
       "      <th>Car_Owned</th>\n",
       "      <th>Bike_Owned</th>\n",
       "      <th>Active_Loan</th>\n",
       "      <th>House_Own</th>\n",
       "      <th>Child_Count</th>\n",
       "      <th>Credit_Amount</th>\n",
       "      <th>Loan_Annuity</th>\n",
       "      <th>Client_Income_Type</th>\n",
       "      <th>Client_Education</th>\n",
       "      <th>...</th>\n",
       "      <th>Client_Gender</th>\n",
       "      <th>Loan_Contract_Type</th>\n",
       "      <th>Age_Days</th>\n",
       "      <th>Employed_Days</th>\n",
       "      <th>Registration_Days</th>\n",
       "      <th>ID_Days</th>\n",
       "      <th>Client_Family_Members</th>\n",
       "      <th>Client_Permanent_Match_Tag</th>\n",
       "      <th>Client_Contact_Work_Tag</th>\n",
       "      <th>Default</th>\n",
       "    </tr>\n",
       "  </thead>\n",
       "  <tbody>\n",
       "    <tr>\n",
       "      <th>0</th>\n",
       "      <td>6750.0</td>\n",
       "      <td>0</td>\n",
       "      <td>0</td>\n",
       "      <td>1</td>\n",
       "      <td>0</td>\n",
       "      <td>0.0</td>\n",
       "      <td>61190.55</td>\n",
       "      <td>3416.85</td>\n",
       "      <td>1</td>\n",
       "      <td>4</td>\n",
       "      <td>...</td>\n",
       "      <td>1</td>\n",
       "      <td>0</td>\n",
       "      <td>13957.0</td>\n",
       "      <td>1062.0</td>\n",
       "      <td>6123.0</td>\n",
       "      <td>383.0</td>\n",
       "      <td>2.0</td>\n",
       "      <td>1</td>\n",
       "      <td>1</td>\n",
       "      <td>0</td>\n",
       "    </tr>\n",
       "    <tr>\n",
       "      <th>4</th>\n",
       "      <td>33750.0</td>\n",
       "      <td>1</td>\n",
       "      <td>0</td>\n",
       "      <td>1</td>\n",
       "      <td>0</td>\n",
       "      <td>2.0</td>\n",
       "      <td>133988.40</td>\n",
       "      <td>3547.35</td>\n",
       "      <td>1</td>\n",
       "      <td>4</td>\n",
       "      <td>...</td>\n",
       "      <td>0</td>\n",
       "      <td>0</td>\n",
       "      <td>11366.0</td>\n",
       "      <td>2977.0</td>\n",
       "      <td>5516.0</td>\n",
       "      <td>4043.0</td>\n",
       "      <td>4.0</td>\n",
       "      <td>1</td>\n",
       "      <td>1</td>\n",
       "      <td>0</td>\n",
       "    </tr>\n",
       "    <tr>\n",
       "      <th>5</th>\n",
       "      <td>11250.0</td>\n",
       "      <td>0</td>\n",
       "      <td>1</td>\n",
       "      <td>1</td>\n",
       "      <td>1</td>\n",
       "      <td>1.0</td>\n",
       "      <td>13752.00</td>\n",
       "      <td>653.85</td>\n",
       "      <td>5</td>\n",
       "      <td>4</td>\n",
       "      <td>...</td>\n",
       "      <td>0</td>\n",
       "      <td>0</td>\n",
       "      <td>13881.0</td>\n",
       "      <td>1184.0</td>\n",
       "      <td>3910.0</td>\n",
       "      <td>3910.0</td>\n",
       "      <td>2.0</td>\n",
       "      <td>1</td>\n",
       "      <td>1</td>\n",
       "      <td>0</td>\n",
       "    </tr>\n",
       "    <tr>\n",
       "      <th>6</th>\n",
       "      <td>15750.0</td>\n",
       "      <td>1</td>\n",
       "      <td>1</td>\n",
       "      <td>0</td>\n",
       "      <td>1</td>\n",
       "      <td>0.0</td>\n",
       "      <td>128835.00</td>\n",
       "      <td>3779.55</td>\n",
       "      <td>4</td>\n",
       "      <td>4</td>\n",
       "      <td>...</td>\n",
       "      <td>1</td>\n",
       "      <td>0</td>\n",
       "      <td>21323.0</td>\n",
       "      <td>365243.0</td>\n",
       "      <td>113.0</td>\n",
       "      <td>4855.0</td>\n",
       "      <td>1.0</td>\n",
       "      <td>1</td>\n",
       "      <td>1</td>\n",
       "      <td>0</td>\n",
       "    </tr>\n",
       "    <tr>\n",
       "      <th>7</th>\n",
       "      <td>13500.0</td>\n",
       "      <td>0</td>\n",
       "      <td>0</td>\n",
       "      <td>1</td>\n",
       "      <td>1</td>\n",
       "      <td>0.0</td>\n",
       "      <td>60415.20</td>\n",
       "      <td>3097.80</td>\n",
       "      <td>4</td>\n",
       "      <td>4</td>\n",
       "      <td>...</td>\n",
       "      <td>1</td>\n",
       "      <td>0</td>\n",
       "      <td>22493.0</td>\n",
       "      <td>365243.0</td>\n",
       "      <td>12617.0</td>\n",
       "      <td>5280.0</td>\n",
       "      <td>2.0</td>\n",
       "      <td>1</td>\n",
       "      <td>1</td>\n",
       "      <td>0</td>\n",
       "    </tr>\n",
       "  </tbody>\n",
       "</table>\n",
       "<p>5 rows × 21 columns</p>\n",
       "</div>"
      ],
      "text/plain": [
       "   Client_Income  Car_Owned  Bike_Owned  Active_Loan  House_Own  Child_Count  \\\n",
       "0         6750.0          0           0            1          0          0.0   \n",
       "4        33750.0          1           0            1          0          2.0   \n",
       "5        11250.0          0           1            1          1          1.0   \n",
       "6        15750.0          1           1            0          1          0.0   \n",
       "7        13500.0          0           0            1          1          0.0   \n",
       "\n",
       "   Credit_Amount  Loan_Annuity  Client_Income_Type  Client_Education  ...  \\\n",
       "0       61190.55       3416.85                   1                 4  ...   \n",
       "4      133988.40       3547.35                   1                 4  ...   \n",
       "5       13752.00        653.85                   5                 4  ...   \n",
       "6      128835.00       3779.55                   4                 4  ...   \n",
       "7       60415.20       3097.80                   4                 4  ...   \n",
       "\n",
       "   Client_Gender  Loan_Contract_Type  Age_Days  Employed_Days  \\\n",
       "0              1                   0   13957.0         1062.0   \n",
       "4              0                   0   11366.0         2977.0   \n",
       "5              0                   0   13881.0         1184.0   \n",
       "6              1                   0   21323.0       365243.0   \n",
       "7              1                   0   22493.0       365243.0   \n",
       "\n",
       "   Registration_Days  ID_Days  Client_Family_Members  \\\n",
       "0             6123.0    383.0                    2.0   \n",
       "4             5516.0   4043.0                    4.0   \n",
       "5             3910.0   3910.0                    2.0   \n",
       "6              113.0   4855.0                    1.0   \n",
       "7            12617.0   5280.0                    2.0   \n",
       "\n",
       "   Client_Permanent_Match_Tag  Client_Contact_Work_Tag  Default  \n",
       "0                           1                        1        0  \n",
       "4                           1                        1        0  \n",
       "5                           1                        1        0  \n",
       "6                           1                        1        0  \n",
       "7                           1                        1        0  \n",
       "\n",
       "[5 rows x 21 columns]"
      ]
     },
     "execution_count": 66,
     "metadata": {},
     "output_type": "execute_result"
    }
   ],
   "source": [
    "df.head()"
   ]
  },
  {
   "cell_type": "markdown",
   "id": "1bc8bb4d-9eb8-4cce-852f-0c7d2d424661",
   "metadata": {},
   "source": [
    "<h3>Check class distribution</h3>"
   ]
  },
  {
   "cell_type": "code",
   "execution_count": 69,
   "id": "28d00b32-62a9-4265-bffd-54c677745d0b",
   "metadata": {},
   "outputs": [
    {
     "name": "stdout",
     "output_type": "stream",
     "text": [
      "Default\n",
      "0    59725\n",
      "1     5278\n",
      "Name: count, dtype: int64\n"
     ]
    }
   ],
   "source": [
    "class_counts = df['Default'].value_counts()\n",
    "print(class_counts)"
   ]
  },
  {
   "cell_type": "code",
   "execution_count": 71,
   "id": "6769f43b-25af-43cf-b23a-38da0a611b2e",
   "metadata": {},
   "outputs": [
    {
     "name": "stdout",
     "output_type": "stream",
     "text": [
      "float64\n",
      "Max Income: 1800009.0\n",
      "Min Income: 2565.0\n"
     ]
    }
   ],
   "source": [
    "#Check client income\n",
    "print(df['Client_Income'].dtype)\n",
    "df = df.dropna(subset=['Client_Income'])  # To drop rows with NaN values in 'Client_Income'\n",
    "max_income = df['Client_Income'].max()\n",
    "min_income = df['Client_Income'].min()\n",
    "\n",
    "print(f\"Max Income: {max_income}\")\n",
    "print(f\"Min Income: {min_income}\")\n"
   ]
  },
  {
   "cell_type": "markdown",
   "id": "9fbef596-4ae6-4a8e-a6cb-fee4bc6ea95c",
   "metadata": {},
   "source": [
    "<h2>Convert days to years</h2>"
   ]
  },
  {
   "cell_type": "code",
   "execution_count": 74,
   "id": "f7638efa-b2ce-48aa-b8b9-3b84027f1c4d",
   "metadata": {},
   "outputs": [
    {
     "name": "stdout",
     "output_type": "stream",
     "text": [
      "        Age_Years  Employed_Years   ID_years  Registration_years\n",
      "0       38.238356        2.909589   1.049315           16.775342\n",
      "4       31.139726        8.156164  11.076712           15.112329\n",
      "5       38.030137        3.243836  10.712329           10.712329\n",
      "6       58.419178     1000.665753  13.301370            0.309589\n",
      "7       61.624658     1000.665753  14.465753           34.567123\n",
      "...           ...             ...        ...                 ...\n",
      "121849  25.216438        2.090411   5.134247           10.336986\n",
      "121852  23.693151        1.742466   3.312329            2.471233\n",
      "121853  25.073973        4.446575   0.967123           10.904110\n",
      "121854  28.191781        2.320548   7.950685            2.452055\n",
      "121855  40.471233        1.364384  13.767123           23.778082\n",
      "\n",
      "[65003 rows x 4 columns]\n"
     ]
    }
   ],
   "source": [
    "# Convert columns to numeric, forcing errors to NaN\n",
    "df['Age_Days'] = pd.to_numeric(df['Age_Days'], errors='coerce')\n",
    "df['Employed_Days'] = pd.to_numeric(df['Employed_Days'], errors='coerce')\n",
    "df['ID_Days'] = pd.to_numeric(df['ID_Days'], errors='coerce')\n",
    "df['Registration_years'] = pd.to_numeric(df['Registration_Days'], errors='coerce')\n",
    "\n",
    "# Convert days to months\n",
    "df['Age_Years'] = df['Age_Days'] / 365\n",
    "df['Employed_Years'] = df['Employed_Days'] / 365\n",
    "df['ID_years'] = df['ID_Days'] / 365\n",
    "df['Registration_years'] = df['Registration_Days'] / 365\n",
    "\n",
    "# Drop rows with NaN values in the specified columns\n",
    "df = df.dropna(subset=['Age_Years', 'Employed_Years', 'ID_years' , 'Registration_years'])\n",
    "\n",
    "# Print the updated DataFrame\n",
    "print(df[['Age_Years', 'Employed_Years', 'ID_years', 'Registration_years']])"
   ]
  },
  {
   "cell_type": "code",
   "execution_count": 76,
   "id": "03e7d24c-09d1-4d83-9130-f789f8edae94",
   "metadata": {},
   "outputs": [
    {
     "name": "stdout",
     "output_type": "stream",
     "text": [
      "max_Age_year: 69.03287671232877\n",
      "min_Age_year: 21.03013698630137\n"
     ]
    }
   ],
   "source": [
    "max_Age_year = df['Age_Years'].max()\n",
    "min_Age_year= df['Age_Years'].min()\n",
    "\n",
    "print(f\"max_Age_year: {max_Age_year}\")\n",
    "print(f\"min_Age_year: {min_Age_year}\")"
   ]
  },
  {
   "cell_type": "code",
   "execution_count": 78,
   "id": "7bc4d0c9-865a-4077-bdf4-9351c2a48fb1",
   "metadata": {},
   "outputs": [
    {
     "data": {
      "text/plain": [
       "['Client_Income',\n",
       " 'Car_Owned',\n",
       " 'Bike_Owned',\n",
       " 'Active_Loan',\n",
       " 'House_Own',\n",
       " 'Child_Count',\n",
       " 'Credit_Amount',\n",
       " 'Loan_Annuity',\n",
       " 'Client_Income_Type',\n",
       " 'Client_Education',\n",
       " 'Client_Marital_Status',\n",
       " 'Client_Gender',\n",
       " 'Loan_Contract_Type',\n",
       " 'Age_Days',\n",
       " 'Employed_Days',\n",
       " 'Registration_Days',\n",
       " 'ID_Days',\n",
       " 'Client_Family_Members',\n",
       " 'Client_Permanent_Match_Tag',\n",
       " 'Client_Contact_Work_Tag',\n",
       " 'Default',\n",
       " 'Registration_years',\n",
       " 'Age_Years',\n",
       " 'Employed_Years',\n",
       " 'ID_years']"
      ]
     },
     "execution_count": 78,
     "metadata": {},
     "output_type": "execute_result"
    }
   ],
   "source": [
    "df.columns.tolist()"
   ]
  },
  {
   "cell_type": "code",
   "execution_count": 87,
   "id": "a458ff32-9403-41fa-b78e-1f5d2fcdb526",
   "metadata": {},
   "outputs": [
    {
     "ename": "KeyError",
     "evalue": "\"['ID_Days', 'Age_Days', 'Employed_Days', 'Registration_Days'] not found in axis\"",
     "output_type": "error",
     "traceback": [
      "\u001b[1;31m---------------------------------------------------------------------------\u001b[0m",
      "\u001b[1;31mKeyError\u001b[0m                                  Traceback (most recent call last)",
      "Cell \u001b[1;32mIn[87], line 2\u001b[0m\n\u001b[0;32m      1\u001b[0m \u001b[38;5;66;03m# Drop the original 'Age_Days' and 'Employed_Days' columns if no longer needed\u001b[39;00m\n\u001b[1;32m----> 2\u001b[0m df \u001b[38;5;241m=\u001b[39m df\u001b[38;5;241m.\u001b[39mdrop(columns\u001b[38;5;241m=\u001b[39m[\u001b[38;5;124m'\u001b[39m\u001b[38;5;124mID_Days\u001b[39m\u001b[38;5;124m'\u001b[39m,\u001b[38;5;124m'\u001b[39m\u001b[38;5;124mAge_Days\u001b[39m\u001b[38;5;124m'\u001b[39m, \u001b[38;5;124m'\u001b[39m\u001b[38;5;124mEmployed_Days\u001b[39m\u001b[38;5;124m'\u001b[39m,\u001b[38;5;124m'\u001b[39m\u001b[38;5;124mRegistration_Days\u001b[39m\u001b[38;5;124m'\u001b[39m])\n",
      "File \u001b[1;32m~\\anaconda3\\Lib\\site-packages\\pandas\\core\\frame.py:5581\u001b[0m, in \u001b[0;36mDataFrame.drop\u001b[1;34m(self, labels, axis, index, columns, level, inplace, errors)\u001b[0m\n\u001b[0;32m   5433\u001b[0m \u001b[38;5;28;01mdef\u001b[39;00m \u001b[38;5;21mdrop\u001b[39m(\n\u001b[0;32m   5434\u001b[0m     \u001b[38;5;28mself\u001b[39m,\n\u001b[0;32m   5435\u001b[0m     labels: IndexLabel \u001b[38;5;241m|\u001b[39m \u001b[38;5;28;01mNone\u001b[39;00m \u001b[38;5;241m=\u001b[39m \u001b[38;5;28;01mNone\u001b[39;00m,\n\u001b[1;32m   (...)\u001b[0m\n\u001b[0;32m   5442\u001b[0m     errors: IgnoreRaise \u001b[38;5;241m=\u001b[39m \u001b[38;5;124m\"\u001b[39m\u001b[38;5;124mraise\u001b[39m\u001b[38;5;124m\"\u001b[39m,\n\u001b[0;32m   5443\u001b[0m ) \u001b[38;5;241m-\u001b[39m\u001b[38;5;241m>\u001b[39m DataFrame \u001b[38;5;241m|\u001b[39m \u001b[38;5;28;01mNone\u001b[39;00m:\n\u001b[0;32m   5444\u001b[0m \u001b[38;5;250m    \u001b[39m\u001b[38;5;124;03m\"\"\"\u001b[39;00m\n\u001b[0;32m   5445\u001b[0m \u001b[38;5;124;03m    Drop specified labels from rows or columns.\u001b[39;00m\n\u001b[0;32m   5446\u001b[0m \n\u001b[1;32m   (...)\u001b[0m\n\u001b[0;32m   5579\u001b[0m \u001b[38;5;124;03m            weight  1.0     0.8\u001b[39;00m\n\u001b[0;32m   5580\u001b[0m \u001b[38;5;124;03m    \"\"\"\u001b[39;00m\n\u001b[1;32m-> 5581\u001b[0m     \u001b[38;5;28;01mreturn\u001b[39;00m \u001b[38;5;28msuper\u001b[39m()\u001b[38;5;241m.\u001b[39mdrop(\n\u001b[0;32m   5582\u001b[0m         labels\u001b[38;5;241m=\u001b[39mlabels,\n\u001b[0;32m   5583\u001b[0m         axis\u001b[38;5;241m=\u001b[39maxis,\n\u001b[0;32m   5584\u001b[0m         index\u001b[38;5;241m=\u001b[39mindex,\n\u001b[0;32m   5585\u001b[0m         columns\u001b[38;5;241m=\u001b[39mcolumns,\n\u001b[0;32m   5586\u001b[0m         level\u001b[38;5;241m=\u001b[39mlevel,\n\u001b[0;32m   5587\u001b[0m         inplace\u001b[38;5;241m=\u001b[39minplace,\n\u001b[0;32m   5588\u001b[0m         errors\u001b[38;5;241m=\u001b[39merrors,\n\u001b[0;32m   5589\u001b[0m     )\n",
      "File \u001b[1;32m~\\anaconda3\\Lib\\site-packages\\pandas\\core\\generic.py:4788\u001b[0m, in \u001b[0;36mNDFrame.drop\u001b[1;34m(self, labels, axis, index, columns, level, inplace, errors)\u001b[0m\n\u001b[0;32m   4786\u001b[0m \u001b[38;5;28;01mfor\u001b[39;00m axis, labels \u001b[38;5;129;01min\u001b[39;00m axes\u001b[38;5;241m.\u001b[39mitems():\n\u001b[0;32m   4787\u001b[0m     \u001b[38;5;28;01mif\u001b[39;00m labels \u001b[38;5;129;01mis\u001b[39;00m \u001b[38;5;129;01mnot\u001b[39;00m \u001b[38;5;28;01mNone\u001b[39;00m:\n\u001b[1;32m-> 4788\u001b[0m         obj \u001b[38;5;241m=\u001b[39m obj\u001b[38;5;241m.\u001b[39m_drop_axis(labels, axis, level\u001b[38;5;241m=\u001b[39mlevel, errors\u001b[38;5;241m=\u001b[39merrors)\n\u001b[0;32m   4790\u001b[0m \u001b[38;5;28;01mif\u001b[39;00m inplace:\n\u001b[0;32m   4791\u001b[0m     \u001b[38;5;28mself\u001b[39m\u001b[38;5;241m.\u001b[39m_update_inplace(obj)\n",
      "File \u001b[1;32m~\\anaconda3\\Lib\\site-packages\\pandas\\core\\generic.py:4830\u001b[0m, in \u001b[0;36mNDFrame._drop_axis\u001b[1;34m(self, labels, axis, level, errors, only_slice)\u001b[0m\n\u001b[0;32m   4828\u001b[0m         new_axis \u001b[38;5;241m=\u001b[39m axis\u001b[38;5;241m.\u001b[39mdrop(labels, level\u001b[38;5;241m=\u001b[39mlevel, errors\u001b[38;5;241m=\u001b[39merrors)\n\u001b[0;32m   4829\u001b[0m     \u001b[38;5;28;01melse\u001b[39;00m:\n\u001b[1;32m-> 4830\u001b[0m         new_axis \u001b[38;5;241m=\u001b[39m axis\u001b[38;5;241m.\u001b[39mdrop(labels, errors\u001b[38;5;241m=\u001b[39merrors)\n\u001b[0;32m   4831\u001b[0m     indexer \u001b[38;5;241m=\u001b[39m axis\u001b[38;5;241m.\u001b[39mget_indexer(new_axis)\n\u001b[0;32m   4833\u001b[0m \u001b[38;5;66;03m# Case for non-unique axis\u001b[39;00m\n\u001b[0;32m   4834\u001b[0m \u001b[38;5;28;01melse\u001b[39;00m:\n",
      "File \u001b[1;32m~\\anaconda3\\Lib\\site-packages\\pandas\\core\\indexes\\base.py:7070\u001b[0m, in \u001b[0;36mIndex.drop\u001b[1;34m(self, labels, errors)\u001b[0m\n\u001b[0;32m   7068\u001b[0m \u001b[38;5;28;01mif\u001b[39;00m mask\u001b[38;5;241m.\u001b[39many():\n\u001b[0;32m   7069\u001b[0m     \u001b[38;5;28;01mif\u001b[39;00m errors \u001b[38;5;241m!=\u001b[39m \u001b[38;5;124m\"\u001b[39m\u001b[38;5;124mignore\u001b[39m\u001b[38;5;124m\"\u001b[39m:\n\u001b[1;32m-> 7070\u001b[0m         \u001b[38;5;28;01mraise\u001b[39;00m \u001b[38;5;167;01mKeyError\u001b[39;00m(\u001b[38;5;124mf\u001b[39m\u001b[38;5;124m\"\u001b[39m\u001b[38;5;132;01m{\u001b[39;00mlabels[mask]\u001b[38;5;241m.\u001b[39mtolist()\u001b[38;5;132;01m}\u001b[39;00m\u001b[38;5;124m not found in axis\u001b[39m\u001b[38;5;124m\"\u001b[39m)\n\u001b[0;32m   7071\u001b[0m     indexer \u001b[38;5;241m=\u001b[39m indexer[\u001b[38;5;241m~\u001b[39mmask]\n\u001b[0;32m   7072\u001b[0m \u001b[38;5;28;01mreturn\u001b[39;00m \u001b[38;5;28mself\u001b[39m\u001b[38;5;241m.\u001b[39mdelete(indexer)\n",
      "\u001b[1;31mKeyError\u001b[0m: \"['ID_Days', 'Age_Days', 'Employed_Days', 'Registration_Days'] not found in axis\""
     ]
    }
   ],
   "source": [
    "# Drop the original 'Age_Days' and 'Employed_Days' columns if no longer needed\n",
    "df = df.drop(columns=['ID_Days','Age_Days', 'Employed_Days','Registration_Days'])"
   ]
  },
  {
   "cell_type": "markdown",
   "id": "a22909e8-375a-429d-b98e-2f5ac7a97867",
   "metadata": {},
   "source": [
    "<h2>Remove Outliers</h2>"
   ]
  },
  {
   "cell_type": "code",
   "execution_count": 81,
   "id": "a8eb26d6-2aad-4065-b313-9c87a748358f",
   "metadata": {},
   "outputs": [
    {
     "name": "stdout",
     "output_type": "stream",
     "text": [
      "Boxplots before removing outliers:\n"
     ]
    },
    {
     "data": {
      "image/png": "[encoded data removed]",
      "text/plain": [
       "<Figure size 1000x3000 with 9 Axes>"
      ]
     },
     "metadata": {},
     "output_type": "display_data"
    },
    {
     "name": "stdout",
     "output_type": "stream",
     "text": [
      "Boxplots after removing outliers:\n"
     ]
    },
    {
     "data": {
      "image/png": "[encoded data removed]",
      "text/plain": [
       "<Figure size 1000x3000 with 9 Axes>"
      ]
     },
     "metadata": {},
     "output_type": "display_data"
    }
   ],
   "source": [
    "import matplotlib.pyplot as plt\n",
    "import seaborn as sns\n",
    "\n",
    "# Columns to check for outliers\n",
    "columns_to_check = ['Client_Income', 'Child_Count','Loan_Annuity','ID_years','Registration_years', 'Credit_Amount', 'Age_Years', 'Employed_Years', 'Client_Family_Members']\n",
    "\n",
    "# Convert columns to numeric (in case some are of object type)\n",
    "df[columns_to_check] = df[columns_to_check].apply(pd.to_numeric, errors='coerce')\n",
    "\n",
    "# Function to detect and remove outliers using IQR\n",
    "def remove_outliers(df, column):\n",
    "    Q1 = df[column].quantile(0.25)\n",
    "    Q3 = df[column].quantile(0.75)\n",
    "    IQR = Q3 - Q1\n",
    "    lower_bound = Q1 - 1.5 * IQR\n",
    "    upper_bound = Q3 + 1.5 * IQR\n",
    "    return df[(df[column] >= lower_bound) & (df[column] <= upper_bound)]\n",
    "\n",
    "# Plot function for boxplot\n",
    "def plot_boxplots(df, columns):\n",
    "    fig, axes = plt.subplots(len(columns), 1, figsize=(10, 30))\n",
    "    for i, col in enumerate(columns):\n",
    "        sns.boxplot(data=df, x=col, ax=axes[i])\n",
    "        axes[i].set_title(f'Boxplot of {col}')\n",
    "    plt.tight_layout()\n",
    "    plt.show()\n",
    "\n",
    "# Visualize before removing outliers\n",
    "print(\"Boxplots before removing outliers:\")\n",
    "plot_boxplots(df, columns_to_check)\n",
    "\n",
    "# Remove outliers for each column\n",
    "for col in columns_to_check:\n",
    "    df = remove_outliers(df, col)\n",
    "\n",
    "# Visualize after removing outliers\n",
    "print(\"Boxplots after removing outliers:\")\n",
    "plot_boxplots(df, columns_to_check)"
   ]
  },
  {
   "cell_type": "code",
   "execution_count": 83,
   "id": "ec49eb1f-ed21-4295-8cd5-ebc829aff591",
   "metadata": {},
   "outputs": [
    {
     "name": "stdout",
     "output_type": "stream",
     "text": [
      "Default\n",
      "0    43526\n",
      "1     4330\n",
      "Name: count, dtype: int64\n"
     ]
    }
   ],
   "source": [
    "class_counts = df['Default'].value_counts()\n",
    "print(class_counts)"
   ]
  },
  {
   "cell_type": "code",
   "execution_count": 89,
   "id": "d9e26873-3ee6-4fa7-974b-d6251a38e4d4",
   "metadata": {},
   "outputs": [
    {
     "name": "stdout",
     "output_type": "stream",
     "text": [
      "        Client_Income  Car_Owned  Bike_Owned  Active_Loan  House_Own  \\\n",
      "0              6750.0          0           0            1          0   \n",
      "4             33750.0          1           0            1          0   \n",
      "5             11250.0          0           1            1          1   \n",
      "10            27000.0          0           0            1          1   \n",
      "11            15750.0          0           0            0          0   \n",
      "...               ...        ...         ...          ...        ...   \n",
      "121848        18000.0          1           1            0          0   \n",
      "121849        10350.0          0           1            0          0   \n",
      "121852        15750.0          0           1            1          0   \n",
      "121853         8100.0          0           1            0          1   \n",
      "121855         9000.0          1           1            1          1   \n",
      "\n",
      "        Child_Count  Credit_Amount  Loan_Annuity  Client_Income_Type  \\\n",
      "0               0.0       61190.55       3416.85                   1   \n",
      "4               2.0      133988.40       3547.35                   1   \n",
      "5               1.0       13752.00        653.85                   5   \n",
      "10              1.0       67500.00       3375.00                   2   \n",
      "11              1.0      149963.85       4397.85                   5   \n",
      "...             ...            ...           ...                 ...   \n",
      "121848          1.0       27302.40       2169.90                   5   \n",
      "121849          0.0       18792.90       1736.55                   5   \n",
      "121852          0.0      104256.00       3388.05                   1   \n",
      "121853          1.0       55107.90       2989.35                   2   \n",
      "121855          1.0       62428.95       4201.65                   1   \n",
      "\n",
      "        Client_Education  Client_Marital_Status  Client_Gender  \\\n",
      "0                      4                      1              1   \n",
      "4                      4                      1              0   \n",
      "5                      4                      3              0   \n",
      "10                     0                      2              1   \n",
      "11                     0                      1              1   \n",
      "...                  ...                    ...            ...   \n",
      "121848                 4                      1              0   \n",
      "121849                 1                      2              1   \n",
      "121852                 0                      1              0   \n",
      "121853                 4                      1              1   \n",
      "121855                 4                      2              1   \n",
      "\n",
      "        Loan_Contract_Type  Client_Family_Members  Client_Permanent_Match_Tag  \\\n",
      "0                        0                    2.0                           1   \n",
      "4                        0                    4.0                           1   \n",
      "5                        0                    2.0                           1   \n",
      "10                       1                    2.0                           1   \n",
      "11                       0                    3.0                           1   \n",
      "...                    ...                    ...                         ...   \n",
      "121848                   0                    3.0                           1   \n",
      "121849                   0                    1.0                           1   \n",
      "121852                   0                    2.0                           1   \n",
      "121853                   0                    3.0                           0   \n",
      "121855                   0                    2.0                           1   \n",
      "\n",
      "        Client_Contact_Work_Tag  Default  Registration_years  Age_Years  \\\n",
      "0                             1        0           16.775342  38.238356   \n",
      "4                             1        0           15.112329  31.139726   \n",
      "5                             1        0           10.712329  38.030137   \n",
      "10                            1        0            8.035616  40.591781   \n",
      "11                            1        0           14.150685  31.008219   \n",
      "...                         ...      ...                 ...        ...   \n",
      "121848                        1        0           13.378082  30.336986   \n",
      "121849                        1        0           10.336986  25.216438   \n",
      "121852                        1        0            2.471233  23.693151   \n",
      "121853                        0        0           10.904110  25.073973   \n",
      "121855                        1        0           23.778082  40.471233   \n",
      "\n",
      "        Employed_Years   ID_years  \n",
      "0             2.909589   1.049315  \n",
      "4             8.156164  11.076712  \n",
      "5             3.243836  10.712329  \n",
      "10            6.200000  12.712329  \n",
      "11            1.010959   5.904110  \n",
      "...                ...        ...  \n",
      "121848        4.167123   9.868493  \n",
      "121849        2.090411   5.134247  \n",
      "121852        1.742466   3.312329  \n",
      "121853        4.446575   0.967123  \n",
      "121855        1.364384  13.767123  \n",
      "\n",
      "[47856 rows x 21 columns]\n"
     ]
    }
   ],
   "source": [
    "# Adjust pandas display options to show all columns\n",
    "pd.set_option('display.max_columns', None)\n",
    "\n",
    "# Print the DataFrame\n",
    "print(df)\n"
   ]
  },
  {
   "cell_type": "code",
   "execution_count": 93,
   "id": "9c27c161-5183-46ef-bf06-71bc62b271d2",
   "metadata": {},
   "outputs": [
    {
     "data": {
      "text/plain": [
       "(47856, 21)"
      ]
     },
     "execution_count": 93,
     "metadata": {},
     "output_type": "execute_result"
    }
   ],
   "source": [
    "df.columns = df.columns.str.strip()\n",
    "df.shape"
   ]
  },
  {
   "cell_type": "markdown",
   "id": "265bb571-9eb4-44a3-a292-30d04f6442fd",
   "metadata": {},
   "source": [
    "<h2>Check final dataset</h2>"
   ]
  },
  {
   "cell_type": "code",
   "execution_count": 95,
   "id": "b2c58b3a-497b-4d98-b934-7cfb5b791fe8",
   "metadata": {},
   "outputs": [
    {
     "name": "stdout",
     "output_type": "stream",
     "text": [
      "Null Values in each column:\n",
      "                    column name  Total missing  Percent missing\n",
      "0                Client_Income              0              0.0\n",
      "11                   Car_Owned              0              0.0\n",
      "19                  Bike_Owned              0              0.0\n",
      "18                 Active_Loan              0              0.0\n",
      "17                   House_Own              0              0.0\n",
      "16                 Child_Count              0              0.0\n",
      "15               Credit_Amount              0              0.0\n",
      "14                Loan_Annuity              0              0.0\n",
      "13          Client_Income_Type              0              0.0\n",
      "12            Client_Education              0              0.0\n",
      "10       Client_Marital_Status              0              0.0\n",
      "1                Client_Gender              0              0.0\n",
      "9           Loan_Contract_Type              0              0.0\n",
      "8        Client_Family_Members              0              0.0\n",
      "7   Client_Permanent_Match_Tag              0              0.0\n",
      "6      Client_Contact_Work_Tag              0              0.0\n",
      "5                      Default              0              0.0\n",
      "4           Registration_years              0              0.0\n",
      "3                    Age_Years              0              0.0\n",
      "2               Employed_Years              0              0.0\n",
      "20                    ID_years              0              0.0\n"
     ]
    }
   ],
   "source": [
    "null= df.isnull().sum().sort_values(ascending=False)\n",
    "total =df.shape[0]\n",
    "percent_missing= (df.isnull().sum()/total).sort_values(ascending=False)\n",
    "\n",
    "missing_data= pd.concat([null, percent_missing], axis=1,\n",
    "                        keys=['Total missing', 'Percent missing'])\n",
    "\n",
    "missing_data.reset_index(inplace=True)\n",
    "missing_data= missing_data.rename(columns= { \"index\": \" column name\"})\n",
    "\n",
    "print (\"Null Values in each column:\\n\",\n",
    "       missing_data.sort_values(by ='Total missing', ascending = False))"
   ]
  },
  {
   "cell_type": "code",
   "execution_count": 97,
   "id": "990f3a7d-6021-40b2-b680-dc950b8367a2",
   "metadata": {},
   "outputs": [
    {
     "name": "stdout",
     "output_type": "stream",
     "text": [
      "Number of duplicate rows: 0\n",
      "Duplicate rows:\n",
      "Empty DataFrame\n",
      "Columns: [Client_Income, Car_Owned, Bike_Owned, Active_Loan, House_Own, Child_Count, Credit_Amount, Loan_Annuity, Client_Income_Type, Client_Education, Client_Marital_Status, Client_Gender, Loan_Contract_Type, Client_Family_Members, Client_Permanent_Match_Tag, Client_Contact_Work_Tag, Default, Registration_years, Age_Years, Employed_Years, ID_years]\n",
      "Index: []\n"
     ]
    }
   ],
   "source": [
    "# 1. Count the number of duplicate rows across all columns\n",
    "duplicate_count_all = df.duplicated(keep='first').sum()\n",
    "\n",
    "# 2. Display the duplicate rows\n",
    "duplicates = df[df.duplicated(keep='first')]\n",
    "print(f\"Number of duplicate rows: {duplicate_count_all}\")\n",
    "print(\"Duplicate rows:\")\n",
    "print(duplicates)"
   ]
  },
  {
   "cell_type": "markdown",
   "id": "43710422-8a85-47fd-a3ef-177b628ca99f",
   "metadata": {},
   "source": [
    "<h2>Save data set</h2> "
   ]
  },
  {
   "cell_type": "code",
   "execution_count": 101,
   "id": "b0fd2cb0-7197-4683-a046-5f313c0896ba",
   "metadata": {},
   "outputs": [
    {
     "name": "stdout",
     "output_type": "stream",
     "text": [
      "DataFrame saved to final_cleaned_data.csv\n"
     ]
    }
   ],
   "source": [
    "# Save the DataFrame to a CSV file\n",
    "csv_filename = 'final_cleaned_data.csv'\n",
    "df.to_csv(csv_filename, index=False)\n",
    "\n",
    "print(f\"DataFrame saved to {csv_filename}\")"
   ]
  },
  {
   "cell_type": "code",
   "execution_count": 103,
   "id": "f0a39728-162e-4560-80ea-7e62c6c1c97c",
   "metadata": {},
   "outputs": [
    {
     "name": "stdout",
     "output_type": "stream",
     "text": [
      "Default\n",
      "0    43526\n",
      "1     4330\n",
      "Name: count, dtype: int64\n"
     ]
    }
   ],
   "source": [
    "class_counts = df['Default'].value_counts()\n",
    "print(class_counts)"
   ]
  },
  {
   "cell_type": "markdown",
   "id": "43847fad-bbf6-4716-b0aa-964d80a462d8",
   "metadata": {},
   "source": [
    "<h1>Model training</h1>"
   ]
  },
  {
   "cell_type": "code",
   "execution_count": 134,
   "id": "9fad6a34-9fcc-4b72-80e4-f71fe6cee8cc",
   "metadata": {},
   "outputs": [
    {
     "name": "stdout",
     "output_type": "stream",
     "text": [
      "Fitting 3 folds for each of 48 candidates, totalling 144 fits\n",
      "Best Hyperparameters: {'criterion': 'entropy', 'max_depth': 10, 'max_features': 'sqrt', 'min_samples_leaf': 2, 'min_samples_split': 5}\n",
      "Accuracy: 0.58\n",
      "Classification Report:\n",
      "              precision    recall  f1-score   support\n",
      "\n",
      "           0       0.93      0.58      0.71      8706\n",
      "           1       0.12      0.57      0.20       866\n",
      "\n",
      "    accuracy                           0.58      9572\n",
      "   macro avg       0.53      0.58      0.46      9572\n",
      "weighted avg       0.86      0.58      0.67      9572\n",
      "\n"
     ]
    }
   ],
   "source": [
    "import pandas as pd\n",
    "from sklearn.model_selection import train_test_split, GridSearchCV, StratifiedKFold\n",
    "from sklearn.tree import DecisionTreeClassifier\n",
    "from sklearn.metrics import classification_report, accuracy_score, confusion_matrix\n",
    "from imblearn.under_sampling import RandomUnderSampler\n",
    "import seaborn as sb\n",
    "import matplotlib.pyplot as plt\n",
    "\n",
    "# Load the cleaned dataset\n",
    "df = pd.read_csv('final_cleaned_data.csv')\n",
    "\n",
    "# Define features and target variable\n",
    "X = df.drop(columns=['Default'])  # Features (all columns except 'Default')\n",
    "y = df['Default']  # Target variable\n",
    "\n",
    "# Split the dataset into training and testing sets (80% train, 20% test)\n",
    "X_train, X_test, y_train, y_test = train_test_split(X, y, test_size=0.2, random_state=42, stratify=y)\n",
    "\n",
    "# Apply undersampling to the training data (keep ratio of majority to minority class as 10:1)\n",
    "undersampler = RandomUnderSampler(sampling_strategy=0.10, random_state=42)\n",
    "X_train_resampled, y_train_resampled = undersampler.fit_resample(X_train, y_train)\n",
    "\n",
    "# Initialize the Decision Tree Classifier\n",
    "model = DecisionTreeClassifier(class_weight='balanced', random_state=42)\n",
    "\n",
    "# Reduced parameter grid for faster tuning\n",
    "param_grid = {\n",
    "    'max_depth': [None, 10, 20],  # None allows the tree to expand until all leaves are pure\n",
    "    'min_samples_split': [2, 5],\n",
    "    'min_samples_leaf': [1, 2],\n",
    "    'max_features': ['sqrt', None],  # 'None' means to consider all features\n",
    "    'criterion': ['gini', 'entropy']  # Criterion for splitting\n",
    "}\n",
    "\n",
    "# StratifiedKFold ensures balanced class representation across folds\n",
    "cv = StratifiedKFold(n_splits=3)\n",
    "\n",
    "# Hyperparameter tuning using GridSearchCV\n",
    "grid_search = GridSearchCV(estimator=model, param_grid=param_grid, scoring='f1', cv=cv, verbose=2, n_jobs=-1)\n",
    "grid_search.fit(X_train_resampled, y_train_resampled)\n",
    "\n",
    "# Best model from Grid Search\n",
    "best_model = grid_search.best_estimator_\n",
    "\n",
    "# Make predictions on the test set\n",
    "y_pred = best_model.predict(X_test)\n",
    "\n",
    "# Evaluate the model\n",
    "accuracy = accuracy_score(y_test, y_pred)\n",
    "report = classification_report(y_test, y_pred)\n",
    "\n",
    "# Confusion Matrix\n",
    "def plot_confusionmatrix(pred, test, dom):\n",
    "    cf = confusion_matrix(test, pred)\n",
    "    sb.heatmap(cf, annot=True, fmt='g', cmap='Blues', xticklabels=classes, yticklabels=classes)\n",
    "    plt.title(f'{dom} Confusion Matrix')\n",
    "    plt.tight_layout()\n",
    "    plt.show()\n",
    "\n",
    "# Print the classification report and accuracy\n",
    "print(f\"Best Hyperparameters: {grid_search.best_params_}\")\n",
    "print(f\"Accuracy: {accuracy:.2f}\")\n",
    "print(\"Classification Report:\")\n",
    "print(report)"
   ]
  },
  {
   "cell_type": "code",
   "execution_count": 136,
   "id": "d523f716-8cc6-434c-b07f-e8000ae82b1e",
   "metadata": {},
   "outputs": [
    {
     "name": "stderr",
     "output_type": "stream",
     "text": [
      "'wget' is not recognized as an internal or external command,\n",
      "operable program or batch file.\n"
     ]
    },
    {
     "data": {
      "text/plain": [
       "['loan_model.pkl']"
      ]
     },
     "execution_count": 136,
     "metadata": {},
     "output_type": "execute_result"
    }
   ],
   "source": [
    "!wget -q -O - ipv4.icanhazip.com\n",
    "\n",
    "# Assuming you already have a trained model, save it\n",
    "import joblib\n",
    "\n",
    "# Let's say `best_model` is the model you selected\n",
    "joblib.dump(best_model, 'loan_model.pkl')"
   ]
  },
  {
   "cell_type": "code",
   "execution_count": 138,
   "id": "504da505-454e-411e-98c8-fe8746e206e2",
   "metadata": {},
   "outputs": [
    {
     "name": "stdout",
     "output_type": "stream",
     "text": [
      "Overwriting app.py\n"
     ]
    }
   ],
   "source": [
    "%%writefile app.py\n",
    "import streamlit as st\n",
    "import numpy as np\n",
    "import joblib\n",
    "\n",
    "# Load the trained model\n",
    "model = joblib.load('loan_model.pkl')\n",
    "\n",
    "# Set up the Streamlit app with a sidebar and title\n",
    "st.set_page_config(page_title=\"Loan Default Prediction\", page_icon=\"💳\", layout='centered')\n",
    "st.title(\"💳 Loan Default Prediction App\")\n",
    "\n",
    "# Add a sidebar for information and instructions\n",
    "st.sidebar.title(\"App Instructions\")\n",
    "st.sidebar.write(\n",
    "    \"\"\"\n",
    "    This app predicts whether a client will default on their loan based on various input features. \n",
    "    Adjust the sliders and choose options from dropdowns and radio buttons to enter client details.\n",
    "    \"\"\"\n",
    ")\n",
    "\n",
    "# Create sliders and other inputs for user input\n",
    "Client_Income = st.slider(\"Client Income\", min_value=0, max_value=1000000, step=1000, value=0)\n",
    "Child_Count = st.slider(\"Child Count\", min_value=0, max_value=10, step=1, value=0)\n",
    "Credit_Amount = st.slider(\"Credit Amount\", min_value=0, max_value=10000000, step=10000, value=0)\n",
    "Loan_Annuity = st.slider(\"Loan Annuity\", min_value=0, max_value=50000, step=500, value=0)\n",
    "Registration_years = st.slider(\"Registration Years\", min_value=0, max_value=100, step=1, value=5)\n",
    "\n",
    "# User inputs for categorical variables (using radio buttons for binary options and dropdowns for multiple choice)\n",
    "Client_Education = st.selectbox(\"Client Education\", ['Graduation', 'Graduation dropout', 'Junior secondary', 'Post Grad', 'Secondary'])\n",
    "Client_Income_Type = st.selectbox(\"Client Income Type\", ['Commercial', 'Govt Job', 'Maternity leave', 'Retired', 'Service', 'Student'])\n",
    "Client_Marital_Status = st.selectbox(\"Client Marital Status\", ['D', 'M', 'S', 'W'])\n",
    "Client_Gender = st.radio(\"Client Gender\", ['Female', 'Male'])  # Radio button for binary choice\n",
    "Loan_Contract_Type = st.radio(\"Loan Contract Type\", ['CL', 'RL'])  # Radio button for binary choice\n",
    "Car_Owned = st.radio(\"Car Owned\", ['No', 'Yes'])  # Radio button for binary choice\n",
    "Bike_Owned = st.radio(\"Bike Owned\", ['No', 'Yes'])  # Radio button for binary choice\n",
    "Active_Loan = st.radio(\"Active Loan\", ['No', 'Yes'])  # Radio button for binary choice\n",
    "House_Own = st.radio(\"House Owned\", ['No', 'Yes'])  # Radio button for binary choice\n",
    "Client_Permanent_Match_Tag = st.radio(\"Client Permanent Match Tag\", ['No', 'Yes'])  # Radio button for binary choice\n",
    "Client_Contact_Work_Tag = st.radio(\"Client Contact Work Tag\", ['No', 'Yes'])  # Radio button for binary choice\n",
    "\n",
    "# Additional input fields using sliders\n",
    "Client_Family_Members = st.slider(\"Client Family Members\", min_value=0, max_value=10, step=1, value=1)\n",
    "Age_Years = st.slider(\"Age (Years)\", min_value=0, max_value=100, step=1, value=30)\n",
    "Employed_Years = st.slider(\"Employed (Years)\", min_value=0, max_value=50, step=1, value=5)\n",
    "ID_years = st.slider(\"ID Years\", min_value=0, max_value=50, step=1, value=5)\n",
    "\n",
    "# Define functions to encode categorical features\n",
    "def encode_client_education(education):\n",
    "    education_mapping = {\n",
    "        'Graduation': 0,\n",
    "        'Graduation dropout': 1,\n",
    "        'Junior secondary': 2,\n",
    "        'Post Grad': 3,\n",
    "        'Secondary': 4\n",
    "    }\n",
    "    return education_mapping.get(education, -1)\n",
    "\n",
    "def encode_Client_Income_Type(income):\n",
    "    income_mapping = {\n",
    "        'Commercial': 0,\n",
    "        'Govt Job': 1,\n",
    "        'Maternity leave': 2,\n",
    "        'Retired': 3,\n",
    "        'Service': 4,\n",
    "        'Student': 5\n",
    "    }\n",
    "    return income_mapping.get(income, -1)\n",
    "\n",
    "def encode_Client_Marital_Status(marital_status):\n",
    "    marital_status_mapping = {\n",
    "        'D': 0,\n",
    "        'M': 1,\n",
    "        'S': 2,\n",
    "        'W': 3\n",
    "    }\n",
    "    return marital_status_mapping.get(marital_status, -1)\n",
    "\n",
    "def encode_Client_Gender(gender):\n",
    "    gender_mapping = {\n",
    "        'Female': 0,\n",
    "        'Male': 1\n",
    "    }\n",
    "    return gender_mapping.get(gender, -1)\n",
    "\n",
    "def encode_Loan_Contract_Type(contract_type):\n",
    "    contract_type_mapping = {\n",
    "        'CL': 0,\n",
    "        'RL': 1\n",
    "    }\n",
    "    return contract_type_mapping.get(contract_type, -1)\n",
    "\n",
    "def encode_Car_Owned(Car_Owned):\n",
    "    Car_Owned_mapping = {\n",
    "        'No': 0,\n",
    "        'Yes': 1\n",
    "    }\n",
    "    return Car_Owned_mapping.get(Car_Owned, -1)\n",
    "\n",
    "def encode_Bike_Owned(Bike_Owned):\n",
    "    Bike_Owned_mapping = {\n",
    "        'No': 0,\n",
    "        'Yes': 1\n",
    "    }\n",
    "    return Bike_Owned_mapping.get(Bike_Owned, -1)\n",
    "\n",
    "def encode_Active_Loan(Active_Loan):\n",
    "    Active_Loan_mapping = {\n",
    "        'No': 0,\n",
    "        'Yes': 1\n",
    "    }\n",
    "    return Active_Loan_mapping.get(Active_Loan, -1)\n",
    "\n",
    "def encode_House_Own(House_Own):\n",
    "    House_Own_mapping = {\n",
    "        'No': 0,\n",
    "        'Yes': 1\n",
    "    }\n",
    "    return House_Own_mapping.get(House_Own, -1)\n",
    "\n",
    "def encode_Client_Permanent_Match_Tag(tag):\n",
    "    tag_mapping = {\n",
    "        'No': 0,\n",
    "        'Yes': 1\n",
    "    }\n",
    "    return tag_mapping.get(tag, -1)\n",
    "\n",
    "def encode_Client_Contact_Work_Tag(tag):\n",
    "    tag_mapping = {\n",
    "        'No': 0,\n",
    "        'Yes': 1\n",
    "    }\n",
    "    return tag_mapping.get(tag, -1)\n",
    "\n",
    "# Function to encode all input data\n",
    "def encode_input():\n",
    "    education_encoded = encode_client_education(Client_Education)\n",
    "    income_encoded = encode_Client_Income_Type(Client_Income_Type)\n",
    "    marital_status_encoded = encode_Client_Marital_Status(Client_Marital_Status)\n",
    "    gender_encoded = encode_Client_Gender(Client_Gender)\n",
    "    contract_type_encoded = encode_Loan_Contract_Type(Loan_Contract_Type)\n",
    "    car_owned_encoded = encode_Car_Owned(Car_Owned)\n",
    "    bike_owned_encoded = encode_Bike_Owned(Bike_Owned)\n",
    "    active_loan_encoded = encode_Active_Loan(Active_Loan)\n",
    "    house_owned_encoded = encode_House_Own(House_Own)\n",
    "    permanent_match_tag_encoded = encode_Client_Permanent_Match_Tag(Client_Permanent_Match_Tag)\n",
    "    contact_work_tag_encoded = encode_Client_Contact_Work_Tag(Client_Contact_Work_Tag)\n",
    "\n",
    "    # Combine all features into one array\n",
    "    input_features = [\n",
    "        Client_Income, Child_Count, Credit_Amount, Loan_Annuity, Registration_years, Client_Family_Members,\n",
    "        permanent_match_tag_encoded, contact_work_tag_encoded, Age_Years,\n",
    "        Employed_Years, ID_years, education_encoded, income_encoded,\n",
    "        marital_status_encoded, gender_encoded, contract_type_encoded,\n",
    "        car_owned_encoded, bike_owned_encoded, active_loan_encoded, house_owned_encoded\n",
    "    ]\n",
    "\n",
    "    return np.array(input_features).reshape(1, -1)\n",
    "\n",
    "# Make prediction when button is clicked\n",
    "if st.button(\"Predict\"):\n",
    "    # Preprocess input\n",
    "    input_data = encode_input()\n",
    "\n",
    "    # Get prediction probabilities\n",
    "    prediction_proba = model.predict_proba(input_data)\n",
    "\n",
    "    # Define your own threshold based on desired sensitivity/specificity\n",
    "    threshold = 0.05  \n",
    "\n",
    "    # Make prediction based on the threshold\n",
    "    prediction = (prediction_proba[0][1] >= threshold).astype(int)\n",
    "\n",
    "    # Display result\n",
    "    if prediction == 0:\n",
    "        st.success(\"The client is predicted to NOT default on the loan. 🎉\")\n",
    "    else:\n",
    "        st.error(\"The client is predicted to default on the loan. ⚠️\")\n"
   ]
  },
  {
   "cell_type": "code",
   "execution_count": null,
   "id": "ec7986d4-7566-4f12-8e49-0d049ed4aa65",
   "metadata": {},
   "outputs": [],
   "source": [
    "!streamlit run app.py & npx localtunnel --port 8501"
   ]
  },
  {
   "cell_type": "code",
   "execution_count": null,
   "id": "e91c43ba-9664-45ab-8ca8-a8461095de4a",
   "metadata": {},
   "outputs": [],
   "source": []
  }
 ],
 "metadata": {
  "kernelspec": {
   "display_name": "Python 3 (ipykernel)",
   "language": "python",
   "name": "python3"
  },
  "language_info": {
   "codemirror_mode": {
    "name": "ipython",
    "version": 3
   },
   "file_extension": ".py",
   "mimetype": "text/x-python",
   "name": "python",
   "nbconvert_exporter": "python",
   "pygments_lexer": "ipython3",
   "version": "3.12.4"
  }
 },
 "nbformat": 4,
 "nbformat_minor": 5
}
